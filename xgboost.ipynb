{
 "cells": [
  {
   "cell_type": "code",
   "execution_count": 21,
   "id": "initial_id",
   "metadata": {
    "collapsed": true,
    "ExecuteTime": {
     "end_time": "2024-06-17T12:36:52.826024Z",
     "start_time": "2024-06-17T12:36:52.819949Z"
    }
   },
   "outputs": [],
   "source": [
    "import pandas as pd\n",
    "import numpy as np\n",
    "from rdkit import Chem\n",
    "from rdkit.Chem import AllChem\n",
    "from sklearn.model_selection import train_test_split, GridSearchCV\n",
    "from sklearn.metrics import accuracy_score, confusion_matrix\n",
    "import xgboost as xgb\n",
    "from sklearn.metrics import precision_score, recall_score\n",
    "from imblearn.over_sampling import SMOTE"
   ]
  },
  {
   "cell_type": "code",
   "outputs": [],
   "source": [
    "def smiles_to_fingerprint(smiles, radius=2, n_bits=2048):\n",
    "    mol = Chem.MolFromSmiles(smiles)\n",
    "    if mol:\n",
    "        fp = AllChem.GetMorganFingerprintAsBitVect(mol, radius, nBits=n_bits)\n",
    "        return np.array(fp)\n",
    "    else:\n",
    "        return np.zeros(n_bits)\n",
    "    \n",
    "def evaluate_model(model, X_val, y_val, label):\n",
    "    y_pred = (model.predict(X_val) > 0.5).astype(int).flatten()\n",
    "    precision = precision_score(y_val, y_pred)\n",
    "    recall = recall_score(y_val, y_pred)\n",
    "    accuracy = accuracy_score(y_val, y_pred)\n",
    "    tn, fp, fn, tp = confusion_matrix(y_val, y_pred).ravel()\n",
    "    \n",
    "    print(f\"{label} Model Performance:\")\n",
    "    print(f\"Precision: {precision * 100:.4f}%, Recall: {recall * 100:.4f}\")\n",
    "    print(f\"Accuracy: {accuracy * 100:.4f}%\")\n",
    "    print(f\"TP: {tp}, TN: {tn}, FP: {fp}, FN: {fn}\")\n",
    "    print(\"-\" * 30)"
   ],
   "metadata": {
    "collapsed": false,
    "ExecuteTime": {
     "end_time": "2024-06-17T12:36:52.839338Z",
     "start_time": "2024-06-17T12:36:52.825417Z"
    }
   },
   "id": "daaf281d901b3de",
   "execution_count": 22
  },
  {
   "cell_type": "code",
   "outputs": [],
   "source": [
    "train_data = pd.read_csv('data/tested_molecules.csv')\n",
    "\n",
    "X = np.array([smiles_to_fingerprint(smiles) for smiles in train_data['SMILES']])\n",
    "y_pkm2 = train_data['PKM2_inhibition'].values\n",
    "y_erk2 = train_data['ERK2_inhibition'].values\n",
    "\n",
    "X_train, X_val, y_train_pkm2, y_val_pkm2 = train_test_split(X, y_pkm2, test_size=0.2, random_state=42)\n",
    "_, _, y_train_erk2, y_val_erk2 = train_test_split(X, y_erk2, test_size=0.2, random_state=42)\n",
    "\n",
    "smote = SMOTE(random_state=42)\n",
    "X_train_smote_pkm2, y_train_smote_pkm2 = smote.fit_resample(X_train, y_train_pkm2)\n",
    "X_train_smote_erk2, y_train_smote_erk2 = smote.fit_resample(X_train, y_train_erk2)"
   ],
   "metadata": {
    "collapsed": false,
    "ExecuteTime": {
     "end_time": "2024-06-17T12:36:54.373703Z",
     "start_time": "2024-06-17T12:36:52.829553Z"
    }
   },
   "id": "de630956927238f9",
   "execution_count": 23
  },
  {
   "cell_type": "code",
   "outputs": [],
   "source": [
    "param_grid = {\n",
    "    'n_estimators': [100, 200, 500],\n",
    "    'max_depth': [3, 5, 7],\n",
    "    'learning_rate': [0.01, 0.1, 0.2],\n",
    "    'scale_pos_weight': [1, 10, 25, 50]\n",
    "}"
   ],
   "metadata": {
    "collapsed": false,
    "ExecuteTime": {
     "end_time": "2024-06-17T12:36:54.390380Z",
     "start_time": "2024-06-17T12:36:54.379097Z"
    }
   },
   "id": "933c6a75acbc4114",
   "execution_count": 24
  },
  {
   "cell_type": "code",
   "outputs": [
    {
     "name": "stdout",
     "output_type": "stream",
     "text": [
      "Fitting 5 folds for each of 108 candidates, totalling 540 fits\n"
     ]
    },
    {
     "name": "stderr",
     "output_type": "stream",
     "text": [
      "/Users/pdixit/.pyenv/versions/3.10.1/lib/python3.10/site-packages/joblib/externals/loky/process_executor.py:752: UserWarning: A worker stopped while some jobs were given to the executor. This can be caused by a too short worker timeout or by a memory leak.\n",
      "  warnings.warn(\n"
     ]
    },
    {
     "name": "stdout",
     "output_type": "stream",
     "text": [
      "Best XGBoost for PKM2 Model Performance:\n",
      "Precision: 100.0000%, Recall: 16.6667\n",
      "Accuracy: 97.7679%\n",
      "TP: 1, TN: 218, FP: 0, FN: 5\n",
      "------------------------------\n"
     ]
    }
   ],
   "source": [
    "xgb_pkm2 = xgb.XGBClassifier(use_label_encoder=False, eval_metric='logloss')\n",
    "\n",
    "grid_search_pkm2 = GridSearchCV(estimator=xgb_pkm2, param_grid=param_grid, scoring='precision', cv=5, verbose=1, n_jobs=-1)\n",
    "grid_search_pkm2.fit(X_train_smote_pkm2, y_train_smote_pkm2)\n",
    "\n",
    "best_model_pkm2 = grid_search_pkm2.best_estimator_\n",
    "evaluate_model(best_model_pkm2, X_val, y_val_pkm2, \"Best XGBoost for PKM2\")"
   ],
   "metadata": {
    "collapsed": false,
    "ExecuteTime": {
     "end_time": "2024-06-17T12:37:49.879893Z",
     "start_time": "2024-06-17T12:36:54.397435Z"
    }
   },
   "id": "b478d1bbd81db3cd",
   "execution_count": 25
  },
  {
   "cell_type": "code",
   "outputs": [
    {
     "name": "stdout",
     "output_type": "stream",
     "text": [
      "Fitting 5 folds for each of 108 candidates, totalling 540 fits\n"
     ]
    },
    {
     "name": "stderr",
     "output_type": "stream",
     "text": [
      "/Users/pdixit/.pyenv/versions/3.10.1/lib/python3.10/site-packages/joblib/externals/loky/process_executor.py:752: UserWarning: A worker stopped while some jobs were given to the executor. This can be caused by a too short worker timeout or by a memory leak.\n",
      "  warnings.warn(\n"
     ]
    },
    {
     "name": "stdout",
     "output_type": "stream",
     "text": [
      "Best XGBoost for ERK2 Model Performance:\n",
      "Precision: 0.0000%, Recall: 0.0000\n",
      "Accuracy: 90.6250%\n",
      "TP: 0, TN: 203, FP: 5, FN: 16\n",
      "------------------------------\n"
     ]
    }
   ],
   "source": [
    "xgb_erk2 = xgb.XGBClassifier(use_label_encoder=False, eval_metric='logloss')\n",
    "\n",
    "grid_search_erk2 = GridSearchCV(estimator=xgb_erk2, param_grid=param_grid, scoring='precision', cv=5, verbose=1, n_jobs=-1)\n",
    "grid_search_erk2.fit(X_train_smote_erk2, y_train_smote_erk2)\n",
    "\n",
    "best_model_erk2 = grid_search_erk2.best_estimator_\n",
    "evaluate_model(best_model_erk2, X_val, y_val_erk2, \"Best XGBoost for ERK2\")"
   ],
   "metadata": {
    "collapsed": false,
    "ExecuteTime": {
     "end_time": "2024-06-17T12:38:48.202717Z",
     "start_time": "2024-06-17T12:37:49.880680Z"
    }
   },
   "id": "dc4c8b0ce76f7bd6",
   "execution_count": 26
  },
  {
   "cell_type": "code",
   "outputs": [],
   "source": [
    "test_data = pd.read_csv('data/untested_molecules-3.csv')\n",
    "X_test = np.array([smiles_to_fingerprint(smiles) for smiles in test_data['SMILES']])\n",
    "\n",
    "test_data['PKM2_inhibition'] = best_model_pkm2.predict(X_test)\n",
    "test_data['ERK2_inhibition'] = best_model_erk2.predict(X_test)"
   ],
   "metadata": {
    "collapsed": false,
    "ExecuteTime": {
     "end_time": "2024-06-17T12:38:53.905109Z",
     "start_time": "2024-06-17T12:38:48.199648Z"
    }
   },
   "id": "9c45e21ed531fa2d",
   "execution_count": 27
  },
  {
   "cell_type": "code",
   "outputs": [
    {
     "data": {
      "text/plain": "                                                 SMILES  PKM2_inhibition  \\\n111                   CCCc1ccc(S(=O)(=O)NCCc2ccncc2)cc1                1   \n326       Cc1cc(-n2c(C)cc(C(=O)CSc3ncnc4ccccc34)c2C)no1                1   \n334    O=C(OCCN1C(=O)CCC1=O)c1ccc(S(=O)(=O)N2CCCCC2)cc1                1   \n413     O=C([O-])C[C@@H](NS(=O)(=O)c1ccc(Br)cc1)c1ccco1                1   \n455                        C[NH+](C)CCC(=O)c1ccc(Cl)cc1                1   \n...                                                 ...              ...   \n4261           Nc1cc(-c2ccc(Br)cc2)nn1S(=O)(=O)c1ccccc1                1   \n4275                              O=C(Cc1cccs1)Nc1nncs1                1   \n4365  O=C(COC(=O)C1CCN(S(=O)(=O)c2cccs2)CC1)c1ccc2c(...                1   \n4423                             Cc1occc1C(=O)NCc1cccs1                1   \n4440                               c1csc(-c2nn[n-]n2)c1                1   \n\n      ERK2_inhibition  \n111                 0  \n326                 0  \n334                 0  \n413                 0  \n455                 0  \n...               ...  \n4261                1  \n4275                0  \n4365                0  \n4423                0  \n4440                0  \n\n[65 rows x 3 columns]",
      "text/html": "<div>\n<style scoped>\n    .dataframe tbody tr th:only-of-type {\n        vertical-align: middle;\n    }\n\n    .dataframe tbody tr th {\n        vertical-align: top;\n    }\n\n    .dataframe thead th {\n        text-align: right;\n    }\n</style>\n<table border=\"1\" class=\"dataframe\">\n  <thead>\n    <tr style=\"text-align: right;\">\n      <th></th>\n      <th>SMILES</th>\n      <th>PKM2_inhibition</th>\n      <th>ERK2_inhibition</th>\n    </tr>\n  </thead>\n  <tbody>\n    <tr>\n      <th>111</th>\n      <td>CCCc1ccc(S(=O)(=O)NCCc2ccncc2)cc1</td>\n      <td>1</td>\n      <td>0</td>\n    </tr>\n    <tr>\n      <th>326</th>\n      <td>Cc1cc(-n2c(C)cc(C(=O)CSc3ncnc4ccccc34)c2C)no1</td>\n      <td>1</td>\n      <td>0</td>\n    </tr>\n    <tr>\n      <th>334</th>\n      <td>O=C(OCCN1C(=O)CCC1=O)c1ccc(S(=O)(=O)N2CCCCC2)cc1</td>\n      <td>1</td>\n      <td>0</td>\n    </tr>\n    <tr>\n      <th>413</th>\n      <td>O=C([O-])C[C@@H](NS(=O)(=O)c1ccc(Br)cc1)c1ccco1</td>\n      <td>1</td>\n      <td>0</td>\n    </tr>\n    <tr>\n      <th>455</th>\n      <td>C[NH+](C)CCC(=O)c1ccc(Cl)cc1</td>\n      <td>1</td>\n      <td>0</td>\n    </tr>\n    <tr>\n      <th>...</th>\n      <td>...</td>\n      <td>...</td>\n      <td>...</td>\n    </tr>\n    <tr>\n      <th>4261</th>\n      <td>Nc1cc(-c2ccc(Br)cc2)nn1S(=O)(=O)c1ccccc1</td>\n      <td>1</td>\n      <td>1</td>\n    </tr>\n    <tr>\n      <th>4275</th>\n      <td>O=C(Cc1cccs1)Nc1nncs1</td>\n      <td>1</td>\n      <td>0</td>\n    </tr>\n    <tr>\n      <th>4365</th>\n      <td>O=C(COC(=O)C1CCN(S(=O)(=O)c2cccs2)CC1)c1ccc2c(...</td>\n      <td>1</td>\n      <td>0</td>\n    </tr>\n    <tr>\n      <th>4423</th>\n      <td>Cc1occc1C(=O)NCc1cccs1</td>\n      <td>1</td>\n      <td>0</td>\n    </tr>\n    <tr>\n      <th>4440</th>\n      <td>c1csc(-c2nn[n-]n2)c1</td>\n      <td>1</td>\n      <td>0</td>\n    </tr>\n  </tbody>\n</table>\n<p>65 rows × 3 columns</p>\n</div>"
     },
     "execution_count": 28,
     "metadata": {},
     "output_type": "execute_result"
    }
   ],
   "source": [
    "test_data[test_data['PKM2_inhibition'] == 1]"
   ],
   "metadata": {
    "collapsed": false,
    "ExecuteTime": {
     "end_time": "2024-06-17T12:38:53.910563Z",
     "start_time": "2024-06-17T12:38:53.907831Z"
    }
   },
   "id": "2867a9a92606ed21",
   "execution_count": 28
  },
  {
   "cell_type": "code",
   "outputs": [
    {
     "data": {
      "text/plain": "                                            SMILES  PKM2_inhibition  \\\n22     O=P([O-])(CP(=O)(c1ccccc1)c1ccccc1)c1ccccc1                0   \n32          O=c1nc[nH]c2c1ncn2[C@H]1CC[C@@H](CO)O1                0   \n56              C[NH+](C)CCC=C1c2ccccc2CCc2ccccc21                0   \n62              CC[NH+](CC)CCn1c(OC)cc(=O)[nH]c1=O                0   \n290      O=c1nc(N(c2ccccc2)c2ccccc2)[nH]c(=O)[nH]1                0   \n...                                            ...              ...   \n4287    O=C(Nc1ccc2c(c1)OCO2)c1c(F)c(F)c(F)c(F)c1F                0   \n4328                       Fc1cc2nccnc2cc1N1CCSCC1                0   \n4344              COc1c(C(C)C)oc2cc3oc(=O)ccc3cc12                0   \n4362        COc1ccc(OC)c(NS(=O)(=O)c2ccc(SC)cc2)c1                0   \n4403  C/C(Cl)=C/Cn1c(SC(C)C)nc2c1c(=O)[nH]c(=O)n2C                0   \n\n      ERK2_inhibition  \n22                  1  \n32                  1  \n56                  1  \n62                  1  \n290                 1  \n...               ...  \n4287                1  \n4328                1  \n4344                1  \n4362                1  \n4403                1  \n\n[128 rows x 3 columns]",
      "text/html": "<div>\n<style scoped>\n    .dataframe tbody tr th:only-of-type {\n        vertical-align: middle;\n    }\n\n    .dataframe tbody tr th {\n        vertical-align: top;\n    }\n\n    .dataframe thead th {\n        text-align: right;\n    }\n</style>\n<table border=\"1\" class=\"dataframe\">\n  <thead>\n    <tr style=\"text-align: right;\">\n      <th></th>\n      <th>SMILES</th>\n      <th>PKM2_inhibition</th>\n      <th>ERK2_inhibition</th>\n    </tr>\n  </thead>\n  <tbody>\n    <tr>\n      <th>22</th>\n      <td>O=P([O-])(CP(=O)(c1ccccc1)c1ccccc1)c1ccccc1</td>\n      <td>0</td>\n      <td>1</td>\n    </tr>\n    <tr>\n      <th>32</th>\n      <td>O=c1nc[nH]c2c1ncn2[C@H]1CC[C@@H](CO)O1</td>\n      <td>0</td>\n      <td>1</td>\n    </tr>\n    <tr>\n      <th>56</th>\n      <td>C[NH+](C)CCC=C1c2ccccc2CCc2ccccc21</td>\n      <td>0</td>\n      <td>1</td>\n    </tr>\n    <tr>\n      <th>62</th>\n      <td>CC[NH+](CC)CCn1c(OC)cc(=O)[nH]c1=O</td>\n      <td>0</td>\n      <td>1</td>\n    </tr>\n    <tr>\n      <th>290</th>\n      <td>O=c1nc(N(c2ccccc2)c2ccccc2)[nH]c(=O)[nH]1</td>\n      <td>0</td>\n      <td>1</td>\n    </tr>\n    <tr>\n      <th>...</th>\n      <td>...</td>\n      <td>...</td>\n      <td>...</td>\n    </tr>\n    <tr>\n      <th>4287</th>\n      <td>O=C(Nc1ccc2c(c1)OCO2)c1c(F)c(F)c(F)c(F)c1F</td>\n      <td>0</td>\n      <td>1</td>\n    </tr>\n    <tr>\n      <th>4328</th>\n      <td>Fc1cc2nccnc2cc1N1CCSCC1</td>\n      <td>0</td>\n      <td>1</td>\n    </tr>\n    <tr>\n      <th>4344</th>\n      <td>COc1c(C(C)C)oc2cc3oc(=O)ccc3cc12</td>\n      <td>0</td>\n      <td>1</td>\n    </tr>\n    <tr>\n      <th>4362</th>\n      <td>COc1ccc(OC)c(NS(=O)(=O)c2ccc(SC)cc2)c1</td>\n      <td>0</td>\n      <td>1</td>\n    </tr>\n    <tr>\n      <th>4403</th>\n      <td>C/C(Cl)=C/Cn1c(SC(C)C)nc2c1c(=O)[nH]c(=O)n2C</td>\n      <td>0</td>\n      <td>1</td>\n    </tr>\n  </tbody>\n</table>\n<p>128 rows × 3 columns</p>\n</div>"
     },
     "execution_count": 29,
     "metadata": {},
     "output_type": "execute_result"
    }
   ],
   "source": [
    "test_data[test_data['ERK2_inhibition'] == 1]"
   ],
   "metadata": {
    "collapsed": false,
    "ExecuteTime": {
     "end_time": "2024-06-17T12:38:53.915463Z",
     "start_time": "2024-06-17T12:38:53.912930Z"
    }
   },
   "id": "213c5d19fb4c6a4f",
   "execution_count": 29
  }
 ],
 "metadata": {
  "kernelspec": {
   "display_name": "Python 3",
   "language": "python",
   "name": "python3"
  },
  "language_info": {
   "codemirror_mode": {
    "name": "ipython",
    "version": 2
   },
   "file_extension": ".py",
   "mimetype": "text/x-python",
   "name": "python",
   "nbconvert_exporter": "python",
   "pygments_lexer": "ipython2",
   "version": "2.7.6"
  }
 },
 "nbformat": 4,
 "nbformat_minor": 5
}
