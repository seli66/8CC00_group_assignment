{
 "cells": [
  {
   "cell_type": "code",
   "execution_count": 61,
   "id": "initial_id",
   "metadata": {
    "collapsed": true,
    "ExecuteTime": {
     "end_time": "2024-06-13T18:29:03.270974Z",
     "start_time": "2024-06-13T18:29:03.262919Z"
    }
   },
   "outputs": [],
   "source": [
    "import pandas as pd\n",
    "import numpy as np\n",
    "from rdkit import Chem\n",
    "from rdkit.Chem import AllChem\n",
    "from sklearn.model_selection import train_test_split\n",
    "from sklearn.metrics import accuracy_score, confusion_matrix\n",
    "import xgboost as xgb\n",
    "from sklearn.metrics import precision_score, recall_score\n",
    "from imblearn.over_sampling import SMOTE"
   ]
  },
  {
   "cell_type": "code",
   "outputs": [],
   "source": [
    "def smiles_to_fingerprint(smiles, radius=2, n_bits=2048):\n",
    "    mol = Chem.MolFromSmiles(smiles)\n",
    "    if mol:\n",
    "        fp = AllChem.GetMorganFingerprintAsBitVect(mol, radius, nBits=n_bits)\n",
    "        return np.array(fp)\n",
    "    else:\n",
    "        return np.zeros(n_bits)\n",
    "    \n",
    "def evaluate_model(model, X_val, y_val, label):\n",
    "    y_pred = (model.predict(X_val) > 0.5).astype(int).flatten()\n",
    "    precision = precision_score(y_val, y_pred)\n",
    "    recall = recall_score(y_val, y_pred)\n",
    "    accuracy = accuracy_score(y_val, y_pred)\n",
    "    tn, fp, fn, tp = confusion_matrix(y_val, y_pred).ravel()\n",
    "    \n",
    "    print(f\"{label} Model Performance:\")\n",
    "    print(f\"Precision: {precision * 100:.4f}%, Recall: {recall * 100:.4f}\")\n",
    "    print(f\"Accuracy: {accuracy * 100:.4f}%\")\n",
    "    print(f\"TP: {tp}, TN: {tn}, FP: {fp}, FN: {fn}\")\n",
    "    print(\"-\" * 30)"
   ],
   "metadata": {
    "collapsed": false,
    "ExecuteTime": {
     "end_time": "2024-06-13T18:29:03.272084Z",
     "start_time": "2024-06-13T18:29:03.267264Z"
    }
   },
   "id": "daaf281d901b3de",
   "execution_count": 62
  },
  {
   "cell_type": "code",
   "outputs": [],
   "source": [
    "train_data = pd.read_csv('data/tested_molecules.csv')\n",
    "\n",
    "X = np.array([smiles_to_fingerprint(smiles) for smiles in train_data['SMILES']])\n",
    "y_pkm2 = train_data['PKM2_inhibition'].values\n",
    "y_erk2 = train_data['ERK2_inhibition'].values\n",
    "\n",
    "X_train, X_val, y_train_pkm2, y_val_pkm2 = train_test_split(X, y_pkm2, test_size=0.2, random_state=42)\n",
    "_, _, y_train_erk2, y_val_erk2 = train_test_split(X, y_erk2, test_size=0.2, random_state=42)\n",
    "\n",
    "smote = SMOTE(random_state=42)\n",
    "X_train_smote_pkm2, y_train_smote_pkm2 = smote.fit_resample(X_train, y_train_pkm2)\n",
    "X_train_smote_erk2, y_train_smote_erk2 = smote.fit_resample(X_train, y_train_erk2)"
   ],
   "metadata": {
    "collapsed": false,
    "ExecuteTime": {
     "end_time": "2024-06-13T18:29:04.729413Z",
     "start_time": "2024-06-13T18:29:03.273349Z"
    }
   },
   "id": "de630956927238f9",
   "execution_count": 63
  },
  {
   "cell_type": "code",
   "outputs": [
    {
     "name": "stdout",
     "output_type": "stream",
     "text": [
      "XGBoost scale_pos for PKM2 Model Performance:\n",
      "Precision: 33.3333%, Recall: 16.6667\n",
      "Accuracy: 96.8750%\n",
      "TP: 1, TN: 216, FP: 2, FN: 5\n",
      "------------------------------\n",
      "XGBoost scale_pos for ERK2 Model Performance:\n",
      "Precision: 0.0000%, Recall: 0.0000\n",
      "Accuracy: 91.9643%\n",
      "TP: 0, TN: 206, FP: 2, FN: 16\n",
      "------------------------------\n"
     ]
    }
   ],
   "source": [
    "scale_pos_weight_pkm2 = np.sum(y_train_pkm2 == 0) / np.sum(y_train_pkm2 == 1)\n",
    "scale_pos_weight_erk2 = np.sum(y_train_erk2 == 0) / np.sum(y_train_erk2 == 1)\n",
    "\n",
    "model_xgb_pkm2 = xgb.XGBClassifier(scale_pos_weight=scale_pos_weight_pkm2)\n",
    "model_xgb_erk2 = xgb.XGBClassifier(scale_pos_weight=scale_pos_weight_erk2)\n",
    "\n",
    "model_xgb_pkm2.fit(X_train, y_train_pkm2)\n",
    "model_xgb_erk2.fit(X_train, y_train_erk2)\n",
    "\n",
    "evaluate_model(model_xgb_pkm2, X_val, y_val_pkm2, \"XGBoost scale_pos for PKM2\")\n",
    "evaluate_model(model_xgb_erk2, X_val, y_val_erk2, \"XGBoost scale_pos for ERK2\")"
   ],
   "metadata": {
    "collapsed": false,
    "ExecuteTime": {
     "end_time": "2024-06-13T18:29:05.280861Z",
     "start_time": "2024-06-13T18:29:04.730855Z"
    }
   },
   "id": "ff2a56d9b9bea27",
   "execution_count": 64
  },
  {
   "cell_type": "code",
   "outputs": [
    {
     "name": "stdout",
     "output_type": "stream",
     "text": [
      "XGBoost for PKM2 Model Performance:\n",
      "Precision: 0.0000%, Recall: 0.0000\n",
      "Accuracy: 97.3214%\n",
      "TP: 0, TN: 218, FP: 0, FN: 6\n",
      "------------------------------\n",
      "XGBoost for ERK2 Model Performance:\n",
      "Precision: 0.0000%, Recall: 0.0000\n",
      "Accuracy: 92.8571%\n",
      "TP: 0, TN: 208, FP: 0, FN: 16\n",
      "------------------------------\n"
     ]
    },
    {
     "name": "stderr",
     "output_type": "stream",
     "text": [
      "/Users/pdixit/.pyenv/versions/3.10.1/lib/python3.10/site-packages/sklearn/metrics/_classification.py:1509: UndefinedMetricWarning: Precision is ill-defined and being set to 0.0 due to no predicted samples. Use `zero_division` parameter to control this behavior.\n",
      "  _warn_prf(average, modifier, f\"{metric.capitalize()} is\", len(result))\n",
      "/Users/pdixit/.pyenv/versions/3.10.1/lib/python3.10/site-packages/sklearn/metrics/_classification.py:1509: UndefinedMetricWarning: Precision is ill-defined and being set to 0.0 due to no predicted samples. Use `zero_division` parameter to control this behavior.\n",
      "  _warn_prf(average, modifier, f\"{metric.capitalize()} is\", len(result))\n"
     ]
    }
   ],
   "source": [
    "model_xgb_pkm2_smote = xgb.XGBClassifier()\n",
    "model_xgb_erk2_smote = xgb.XGBClassifier()\n",
    "\n",
    "model_xgb_pkm2_smote.fit(X_train_smote_pkm2, y_train_smote_pkm2)\n",
    "model_xgb_erk2_smote.fit(X_train_smote_erk2, y_train_smote_erk2)\n",
    "\n",
    "model_xgb_pkm2_smote.fit(X_train, y_train_pkm2)\n",
    "model_xgb_pkm2_smote.fit(X_train, y_train_erk2)\n",
    "\n",
    "evaluate_model(model_xgb_pkm2_smote, X_val, y_val_pkm2, \"XGBoost for PKM2\")\n",
    "evaluate_model(model_xgb_pkm2_smote, X_val, y_val_erk2, \"XGBoost for ERK2\")"
   ],
   "metadata": {
    "collapsed": false,
    "ExecuteTime": {
     "end_time": "2024-06-13T18:29:06.505684Z",
     "start_time": "2024-06-13T18:29:05.280436Z"
    }
   },
   "id": "66e406b503ab6197",
   "execution_count": 65
  },
  {
   "cell_type": "code",
   "outputs": [],
   "source": [
    "test_data = pd.read_csv('data/untested_molecules-3.csv')\n",
    "X_test = np.array([smiles_to_fingerprint(smiles) for smiles in test_data['SMILES']])"
   ],
   "metadata": {
    "collapsed": false,
    "ExecuteTime": {
     "end_time": "2024-06-13T18:29:12.108472Z",
     "start_time": "2024-06-13T18:29:06.506172Z"
    }
   },
   "id": "35e957e495289ede",
   "execution_count": 66
  },
  {
   "cell_type": "code",
   "outputs": [],
   "source": [
    "test_data['PKM2_inhibition'] = model_xgb_pkm2.predict(X_test)\n",
    "test_data['ERK2_inhibition'] = model_xgb_erk2.predict(X_test)"
   ],
   "metadata": {
    "collapsed": false,
    "ExecuteTime": {
     "end_time": "2024-06-13T18:29:12.122802Z",
     "start_time": "2024-06-13T18:29:12.112003Z"
    }
   },
   "id": "f732c770dad7a2d2",
   "execution_count": 67
  },
  {
   "cell_type": "code",
   "outputs": [
    {
     "data": {
      "text/plain": "                                                 SMILES  PKM2_inhibition  \\\n20    CCN1C(=O)[C@]2(C(C#N)=C([NH3+])Oc3cc(C)oc(=O)c...                1   \n36     O=C([O-])c1ccc(CN(c2ccccn2)S(=O)(=O)c2ccccc2)cc1                1   \n210    Cc1cc(NC(=O)CSc2nc3ccsc3c(=O)n2CCCCC(=O)[O-])no1                1   \n326       Cc1cc(-n2c(C)cc(C(=O)CSc3ncnc4ccccc34)c2C)no1                1   \n519   O=C(c1ccc([N-]S(=O)(=O)c2ccccc2)cc1)N1CC[NH+](...                1   \n...                                                 ...              ...   \n4080              CN(C(=O)COc1ccccc1)c1nnc(-c2cccnc2)s1                1   \n4122                 CCOC(=O)c1sc(NC(=O)c2ccc(C)o2)nc1C                1   \n4130  CC[C@@H](OC(=O)[C@H](NC(=O)c1ccccc1)c1ccccc1)C...                1   \n4358       CCCNC(=O)COC(=O)c1ccc(S(=O)(=O)N2CCCCCC2)cc1                1   \n4387  Cc1nn(Cc2ccccc2)c2sc(C(=O)N3CC[NH+](Cc4ccc5c(c...                1   \n\n      ERK2_inhibition  \n20                  0  \n36                  0  \n210                 0  \n326                 0  \n519                 0  \n...               ...  \n4080                0  \n4122                0  \n4130                0  \n4358                0  \n4387                0  \n\n[71 rows x 3 columns]",
      "text/html": "<div>\n<style scoped>\n    .dataframe tbody tr th:only-of-type {\n        vertical-align: middle;\n    }\n\n    .dataframe tbody tr th {\n        vertical-align: top;\n    }\n\n    .dataframe thead th {\n        text-align: right;\n    }\n</style>\n<table border=\"1\" class=\"dataframe\">\n  <thead>\n    <tr style=\"text-align: right;\">\n      <th></th>\n      <th>SMILES</th>\n      <th>PKM2_inhibition</th>\n      <th>ERK2_inhibition</th>\n    </tr>\n  </thead>\n  <tbody>\n    <tr>\n      <th>20</th>\n      <td>CCN1C(=O)[C@]2(C(C#N)=C([NH3+])Oc3cc(C)oc(=O)c...</td>\n      <td>1</td>\n      <td>0</td>\n    </tr>\n    <tr>\n      <th>36</th>\n      <td>O=C([O-])c1ccc(CN(c2ccccn2)S(=O)(=O)c2ccccc2)cc1</td>\n      <td>1</td>\n      <td>0</td>\n    </tr>\n    <tr>\n      <th>210</th>\n      <td>Cc1cc(NC(=O)CSc2nc3ccsc3c(=O)n2CCCCC(=O)[O-])no1</td>\n      <td>1</td>\n      <td>0</td>\n    </tr>\n    <tr>\n      <th>326</th>\n      <td>Cc1cc(-n2c(C)cc(C(=O)CSc3ncnc4ccccc34)c2C)no1</td>\n      <td>1</td>\n      <td>0</td>\n    </tr>\n    <tr>\n      <th>519</th>\n      <td>O=C(c1ccc([N-]S(=O)(=O)c2ccccc2)cc1)N1CC[NH+](...</td>\n      <td>1</td>\n      <td>0</td>\n    </tr>\n    <tr>\n      <th>...</th>\n      <td>...</td>\n      <td>...</td>\n      <td>...</td>\n    </tr>\n    <tr>\n      <th>4080</th>\n      <td>CN(C(=O)COc1ccccc1)c1nnc(-c2cccnc2)s1</td>\n      <td>1</td>\n      <td>0</td>\n    </tr>\n    <tr>\n      <th>4122</th>\n      <td>CCOC(=O)c1sc(NC(=O)c2ccc(C)o2)nc1C</td>\n      <td>1</td>\n      <td>0</td>\n    </tr>\n    <tr>\n      <th>4130</th>\n      <td>CC[C@@H](OC(=O)[C@H](NC(=O)c1ccccc1)c1ccccc1)C...</td>\n      <td>1</td>\n      <td>0</td>\n    </tr>\n    <tr>\n      <th>4358</th>\n      <td>CCCNC(=O)COC(=O)c1ccc(S(=O)(=O)N2CCCCCC2)cc1</td>\n      <td>1</td>\n      <td>0</td>\n    </tr>\n    <tr>\n      <th>4387</th>\n      <td>Cc1nn(Cc2ccccc2)c2sc(C(=O)N3CC[NH+](Cc4ccc5c(c...</td>\n      <td>1</td>\n      <td>0</td>\n    </tr>\n  </tbody>\n</table>\n<p>71 rows × 3 columns</p>\n</div>"
     },
     "execution_count": 68,
     "metadata": {},
     "output_type": "execute_result"
    }
   ],
   "source": [
    "test_data[test_data['PKM2_inhibition'] == 1]"
   ],
   "metadata": {
    "collapsed": false,
    "ExecuteTime": {
     "end_time": "2024-06-13T18:29:12.128753Z",
     "start_time": "2024-06-13T18:29:12.123526Z"
    }
   },
   "id": "b3cd7a3967f9950a",
   "execution_count": 68
  },
  {
   "cell_type": "code",
   "outputs": [
    {
     "data": {
      "text/plain": "                                                 SMILES  PKM2_inhibition  \\\n240            N#CCCN1CC[NH+](Cc2cc(-c3ccccc3)ccc2O)CC1                0   \n419      COc1cc2[nH]c(=O)n(CCC(=O)NC3CCCC3)c(=O)c2cc1OC                0   \n468                     Cn1c(SCC(=O)N2CCCCC2)nc2cccnc21                0   \n531                  Nc1ccc(-c2n[nH]c(=O)c3ccccc23)cc1N                0   \n641                               O=c1c2ccccc2nc2n1CCS2                0   \n898             N#Cc1nc(-c2ccc(F)cc2)oc1NCc1cccc2c1OCO2                0   \n1201             C(=N/c1c(-c2ccccc2)nc2n1CCS2)\\c1ccccc1                0   \n1243                OCC[NH+]1CCN(Cc2nc(O)c3ccccc3n2)CC1                0   \n1291      Oc1c([C@@H](c2ccccn2)[NH+]2CCOCC2)ccc2cccnc12                0   \n1569                      O=c1nc(Cc2cccs2)[nH]c2ccccc12                0   \n1629            O=c1cc(-c2ccccc2)nc2nc(-c3ccco3)[nH]n12                0   \n1708  COc1ccccc1N1CC[NH+](C/C(O)=C(\\C#N)c2nc(-c3cccc...                0   \n1775             N#Cc1nc(-c2cccs2)oc1N1CCN(c2ccccc2)CC1                0   \n1778  COc1ccc(CCN2C(=O)C[C@@H]([NH+]3CCN(c4ccccn4)CC...                0   \n1883                 Nc1nc(-c2ccc(Cl)cc2)cc(C(F)(F)F)n1                0   \n1900      Nc1nc(CSc2n[nH]c(-c3ccccc3)n2)nc(Nc2ccccc2)n1                0   \n2362                 CC[n+]1cc(-c2ccccc2)nc(N2CCOCC2)n1                0   \n2384  COc1ccc(-c2noc(CSc3nc(=O)c(-c4ccccc4)c(N)[nH]3...                0   \n2455  O[C@@H](COc1ccc(Cl)c2ccccc12)C[NH+]1CCN(c2cccc...                0   \n2503                     c1ccc(OCc2nc(-c3ccccc3)no2)cc1                0   \n2773          O=c1cc(-c2ccccc2)nc2nc(CCc3ccccc3)[nH]n12                0   \n2890                      c1cncc(Nc2nc(-c3ccncc3)cs2)c1                0   \n2970              Oc1ccc2ccccc2c1/C=N/Cc1cn2ccsc2[nH+]1                0   \n3085  CCOc1cc2[nH]c(=O)n(CCC(=O)NCCc3ccc(OC)c(OC)c3)...                0   \n3315                O=C1C[C@H](c2ccco2)c2ccc3ccccc3c2N1                0   \n3335  Cn1c(=O)n(CCc2ccccc2)c(=O)c2c1nc1n2CCCN1CCc1cc...                0   \n3538  c1ccc(-c2noc(CN3CC[NH+](C(c4ccccc4)c4ccccc4)CC...                0   \n3541         C/C=C/c1ccc(OCCSc2nc(=O)cc(C)[nH]2)c(OC)c1                0   \n3568   COc1ccc(C[C@@H](C)[NH+]2CCN(c3ccccc3OC)CC2)cc1OC                0   \n3769                c1ccc(-c2nc3nonc3c3nc4ccccc4n23)cc1                0   \n3892     O=S(=O)(C[C@H]1CSc2ncnc3ncn1c23)c1ccc2ccccc2c1                0   \n4205                 c1ccc(-c2cc3c(N4CCOCC4)ncnc3s2)cc1                0   \n4210                             N=c1nc(-c2ccccc2)ccn1O                0   \n4211            Oc1ccccc1-c1cc(-c2ccc3c(c2)OCCO3)n[nH]1                0   \n4261           Nc1cc(-c2ccc(Br)cc2)nn1S(=O)(=O)c1ccccc1                0   \n\n      ERK2_inhibition  \n240                 1  \n419                 1  \n468                 1  \n531                 1  \n641                 1  \n898                 1  \n1201                1  \n1243                1  \n1291                1  \n1569                1  \n1629                1  \n1708                1  \n1775                1  \n1778                1  \n1883                1  \n1900                1  \n2362                1  \n2384                1  \n2455                1  \n2503                1  \n2773                1  \n2890                1  \n2970                1  \n3085                1  \n3315                1  \n3335                1  \n3538                1  \n3541                1  \n3568                1  \n3769                1  \n3892                1  \n4205                1  \n4210                1  \n4211                1  \n4261                1  ",
      "text/html": "<div>\n<style scoped>\n    .dataframe tbody tr th:only-of-type {\n        vertical-align: middle;\n    }\n\n    .dataframe tbody tr th {\n        vertical-align: top;\n    }\n\n    .dataframe thead th {\n        text-align: right;\n    }\n</style>\n<table border=\"1\" class=\"dataframe\">\n  <thead>\n    <tr style=\"text-align: right;\">\n      <th></th>\n      <th>SMILES</th>\n      <th>PKM2_inhibition</th>\n      <th>ERK2_inhibition</th>\n    </tr>\n  </thead>\n  <tbody>\n    <tr>\n      <th>240</th>\n      <td>N#CCCN1CC[NH+](Cc2cc(-c3ccccc3)ccc2O)CC1</td>\n      <td>0</td>\n      <td>1</td>\n    </tr>\n    <tr>\n      <th>419</th>\n      <td>COc1cc2[nH]c(=O)n(CCC(=O)NC3CCCC3)c(=O)c2cc1OC</td>\n      <td>0</td>\n      <td>1</td>\n    </tr>\n    <tr>\n      <th>468</th>\n      <td>Cn1c(SCC(=O)N2CCCCC2)nc2cccnc21</td>\n      <td>0</td>\n      <td>1</td>\n    </tr>\n    <tr>\n      <th>531</th>\n      <td>Nc1ccc(-c2n[nH]c(=O)c3ccccc23)cc1N</td>\n      <td>0</td>\n      <td>1</td>\n    </tr>\n    <tr>\n      <th>641</th>\n      <td>O=c1c2ccccc2nc2n1CCS2</td>\n      <td>0</td>\n      <td>1</td>\n    </tr>\n    <tr>\n      <th>898</th>\n      <td>N#Cc1nc(-c2ccc(F)cc2)oc1NCc1cccc2c1OCO2</td>\n      <td>0</td>\n      <td>1</td>\n    </tr>\n    <tr>\n      <th>1201</th>\n      <td>C(=N/c1c(-c2ccccc2)nc2n1CCS2)\\c1ccccc1</td>\n      <td>0</td>\n      <td>1</td>\n    </tr>\n    <tr>\n      <th>1243</th>\n      <td>OCC[NH+]1CCN(Cc2nc(O)c3ccccc3n2)CC1</td>\n      <td>0</td>\n      <td>1</td>\n    </tr>\n    <tr>\n      <th>1291</th>\n      <td>Oc1c([C@@H](c2ccccn2)[NH+]2CCOCC2)ccc2cccnc12</td>\n      <td>0</td>\n      <td>1</td>\n    </tr>\n    <tr>\n      <th>1569</th>\n      <td>O=c1nc(Cc2cccs2)[nH]c2ccccc12</td>\n      <td>0</td>\n      <td>1</td>\n    </tr>\n    <tr>\n      <th>1629</th>\n      <td>O=c1cc(-c2ccccc2)nc2nc(-c3ccco3)[nH]n12</td>\n      <td>0</td>\n      <td>1</td>\n    </tr>\n    <tr>\n      <th>1708</th>\n      <td>COc1ccccc1N1CC[NH+](C/C(O)=C(\\C#N)c2nc(-c3cccc...</td>\n      <td>0</td>\n      <td>1</td>\n    </tr>\n    <tr>\n      <th>1775</th>\n      <td>N#Cc1nc(-c2cccs2)oc1N1CCN(c2ccccc2)CC1</td>\n      <td>0</td>\n      <td>1</td>\n    </tr>\n    <tr>\n      <th>1778</th>\n      <td>COc1ccc(CCN2C(=O)C[C@@H]([NH+]3CCN(c4ccccn4)CC...</td>\n      <td>0</td>\n      <td>1</td>\n    </tr>\n    <tr>\n      <th>1883</th>\n      <td>Nc1nc(-c2ccc(Cl)cc2)cc(C(F)(F)F)n1</td>\n      <td>0</td>\n      <td>1</td>\n    </tr>\n    <tr>\n      <th>1900</th>\n      <td>Nc1nc(CSc2n[nH]c(-c3ccccc3)n2)nc(Nc2ccccc2)n1</td>\n      <td>0</td>\n      <td>1</td>\n    </tr>\n    <tr>\n      <th>2362</th>\n      <td>CC[n+]1cc(-c2ccccc2)nc(N2CCOCC2)n1</td>\n      <td>0</td>\n      <td>1</td>\n    </tr>\n    <tr>\n      <th>2384</th>\n      <td>COc1ccc(-c2noc(CSc3nc(=O)c(-c4ccccc4)c(N)[nH]3...</td>\n      <td>0</td>\n      <td>1</td>\n    </tr>\n    <tr>\n      <th>2455</th>\n      <td>O[C@@H](COc1ccc(Cl)c2ccccc12)C[NH+]1CCN(c2cccc...</td>\n      <td>0</td>\n      <td>1</td>\n    </tr>\n    <tr>\n      <th>2503</th>\n      <td>c1ccc(OCc2nc(-c3ccccc3)no2)cc1</td>\n      <td>0</td>\n      <td>1</td>\n    </tr>\n    <tr>\n      <th>2773</th>\n      <td>O=c1cc(-c2ccccc2)nc2nc(CCc3ccccc3)[nH]n12</td>\n      <td>0</td>\n      <td>1</td>\n    </tr>\n    <tr>\n      <th>2890</th>\n      <td>c1cncc(Nc2nc(-c3ccncc3)cs2)c1</td>\n      <td>0</td>\n      <td>1</td>\n    </tr>\n    <tr>\n      <th>2970</th>\n      <td>Oc1ccc2ccccc2c1/C=N/Cc1cn2ccsc2[nH+]1</td>\n      <td>0</td>\n      <td>1</td>\n    </tr>\n    <tr>\n      <th>3085</th>\n      <td>CCOc1cc2[nH]c(=O)n(CCC(=O)NCCc3ccc(OC)c(OC)c3)...</td>\n      <td>0</td>\n      <td>1</td>\n    </tr>\n    <tr>\n      <th>3315</th>\n      <td>O=C1C[C@H](c2ccco2)c2ccc3ccccc3c2N1</td>\n      <td>0</td>\n      <td>1</td>\n    </tr>\n    <tr>\n      <th>3335</th>\n      <td>Cn1c(=O)n(CCc2ccccc2)c(=O)c2c1nc1n2CCCN1CCc1cc...</td>\n      <td>0</td>\n      <td>1</td>\n    </tr>\n    <tr>\n      <th>3538</th>\n      <td>c1ccc(-c2noc(CN3CC[NH+](C(c4ccccc4)c4ccccc4)CC...</td>\n      <td>0</td>\n      <td>1</td>\n    </tr>\n    <tr>\n      <th>3541</th>\n      <td>C/C=C/c1ccc(OCCSc2nc(=O)cc(C)[nH]2)c(OC)c1</td>\n      <td>0</td>\n      <td>1</td>\n    </tr>\n    <tr>\n      <th>3568</th>\n      <td>COc1ccc(C[C@@H](C)[NH+]2CCN(c3ccccc3OC)CC2)cc1OC</td>\n      <td>0</td>\n      <td>1</td>\n    </tr>\n    <tr>\n      <th>3769</th>\n      <td>c1ccc(-c2nc3nonc3c3nc4ccccc4n23)cc1</td>\n      <td>0</td>\n      <td>1</td>\n    </tr>\n    <tr>\n      <th>3892</th>\n      <td>O=S(=O)(C[C@H]1CSc2ncnc3ncn1c23)c1ccc2ccccc2c1</td>\n      <td>0</td>\n      <td>1</td>\n    </tr>\n    <tr>\n      <th>4205</th>\n      <td>c1ccc(-c2cc3c(N4CCOCC4)ncnc3s2)cc1</td>\n      <td>0</td>\n      <td>1</td>\n    </tr>\n    <tr>\n      <th>4210</th>\n      <td>N=c1nc(-c2ccccc2)ccn1O</td>\n      <td>0</td>\n      <td>1</td>\n    </tr>\n    <tr>\n      <th>4211</th>\n      <td>Oc1ccccc1-c1cc(-c2ccc3c(c2)OCCO3)n[nH]1</td>\n      <td>0</td>\n      <td>1</td>\n    </tr>\n    <tr>\n      <th>4261</th>\n      <td>Nc1cc(-c2ccc(Br)cc2)nn1S(=O)(=O)c1ccccc1</td>\n      <td>0</td>\n      <td>1</td>\n    </tr>\n  </tbody>\n</table>\n</div>"
     },
     "execution_count": 69,
     "metadata": {},
     "output_type": "execute_result"
    }
   ],
   "source": [
    "test_data[test_data['ERK2_inhibition'] == 1]"
   ],
   "metadata": {
    "collapsed": false,
    "ExecuteTime": {
     "end_time": "2024-06-13T18:29:12.135165Z",
     "start_time": "2024-06-13T18:29:12.131133Z"
    }
   },
   "id": "cb3e5786df902d01",
   "execution_count": 69
  },
  {
   "cell_type": "code",
   "outputs": [],
   "source": [
    "test_data = pd.read_csv('data/untested_molecules-3.csv')\n",
    "X_test = np.array([smiles_to_fingerprint(smiles) for smiles in test_data['SMILES']])"
   ],
   "metadata": {
    "collapsed": false,
    "ExecuteTime": {
     "end_time": "2024-06-13T18:29:17.689061Z",
     "start_time": "2024-06-13T18:29:12.134500Z"
    }
   },
   "id": "8c86231afcda7930",
   "execution_count": 70
  },
  {
   "cell_type": "code",
   "outputs": [],
   "source": [
    "test_data['PKM2_inhibition'] = model_xgb_pkm2_smote.predict(X_test)\n",
    "test_data['ERK2_inhibition'] = model_xgb_erk2_smote.predict(X_test)"
   ],
   "metadata": {
    "collapsed": false,
    "ExecuteTime": {
     "end_time": "2024-06-13T18:29:17.705376Z",
     "start_time": "2024-06-13T18:29:17.692459Z"
    }
   },
   "id": "9a0a1f8effc7b06e",
   "execution_count": 71
  },
  {
   "cell_type": "code",
   "outputs": [
    {
     "data": {
      "text/plain": "                                                 SMILES  PKM2_inhibition  \\\n294                     c1ccc(CCCc2nc(-c3ccccn3)no2)cc1                1   \n1201             C(=N/c1c(-c2ccccc2)nc2n1CCS2)\\c1ccccc1                1   \n1243                OCC[NH+]1CCN(Cc2nc(O)c3ccccc3n2)CC1                1   \n1291      Oc1c([C@@H](c2ccccn2)[NH+]2CCOCC2)ccc2cccnc12                1   \n1900      Nc1nc(CSc2n[nH]c(-c3ccccc3)n2)nc(Nc2ccccc2)n1                1   \n1943     c1ccc(-c2oc3ncnc(NCCCn4ccnc4)c3c2-c2ccccc2)cc1                1   \n2211              O[C@H](c1ccc2c(c1)OCO2)c1nccc2ccccc12                1   \n2455  O[C@@H](COc1ccc(Cl)c2ccccc12)C[NH+]1CCN(c2cccc...                1   \n2503                     c1ccc(OCc2nc(-c3ccccc3)no2)cc1                1   \n2773          O=c1cc(-c2ccccc2)nc2nc(CCc3ccccc3)[nH]n12                1   \n2803  Nc1nc(C[NH+]2CCN(Cc3ccccc3)CC2)nc(Nc2ccc3c(c2)...                1   \n2890                      c1cncc(Nc2nc(-c3ccncc3)cs2)c1                1   \n3085  CCOc1cc2[nH]c(=O)n(CCC(=O)NCCc3ccc(OC)c(OC)c3)...                1   \n3113         c1ccc(CC[N@H+]2CN=C(Nc3nc4ccccc4o3)NC2)cc1                1   \n3315                O=C1C[C@H](c2ccco2)c2ccc3ccccc3c2N1                1   \n3538  c1ccc(-c2noc(CN3CC[NH+](C(c4ccccc4)c4ccccc4)CC...                1   \n4205                 c1ccc(-c2cc3c(N4CCOCC4)ncnc3s2)cc1                1   \n4210                             N=c1nc(-c2ccccc2)ccn1O                1   \n4211            Oc1ccccc1-c1cc(-c2ccc3c(c2)OCCO3)n[nH]1                1   \n\n      ERK2_inhibition  \n294                 1  \n1201                1  \n1243                1  \n1291                0  \n1900                1  \n1943                0  \n2211                1  \n2455                0  \n2503                1  \n2773                1  \n2803                0  \n2890                1  \n3085                0  \n3113                0  \n3315                0  \n3538                1  \n4205                0  \n4210                1  \n4211                1  ",
      "text/html": "<div>\n<style scoped>\n    .dataframe tbody tr th:only-of-type {\n        vertical-align: middle;\n    }\n\n    .dataframe tbody tr th {\n        vertical-align: top;\n    }\n\n    .dataframe thead th {\n        text-align: right;\n    }\n</style>\n<table border=\"1\" class=\"dataframe\">\n  <thead>\n    <tr style=\"text-align: right;\">\n      <th></th>\n      <th>SMILES</th>\n      <th>PKM2_inhibition</th>\n      <th>ERK2_inhibition</th>\n    </tr>\n  </thead>\n  <tbody>\n    <tr>\n      <th>294</th>\n      <td>c1ccc(CCCc2nc(-c3ccccn3)no2)cc1</td>\n      <td>1</td>\n      <td>1</td>\n    </tr>\n    <tr>\n      <th>1201</th>\n      <td>C(=N/c1c(-c2ccccc2)nc2n1CCS2)\\c1ccccc1</td>\n      <td>1</td>\n      <td>1</td>\n    </tr>\n    <tr>\n      <th>1243</th>\n      <td>OCC[NH+]1CCN(Cc2nc(O)c3ccccc3n2)CC1</td>\n      <td>1</td>\n      <td>1</td>\n    </tr>\n    <tr>\n      <th>1291</th>\n      <td>Oc1c([C@@H](c2ccccn2)[NH+]2CCOCC2)ccc2cccnc12</td>\n      <td>1</td>\n      <td>0</td>\n    </tr>\n    <tr>\n      <th>1900</th>\n      <td>Nc1nc(CSc2n[nH]c(-c3ccccc3)n2)nc(Nc2ccccc2)n1</td>\n      <td>1</td>\n      <td>1</td>\n    </tr>\n    <tr>\n      <th>1943</th>\n      <td>c1ccc(-c2oc3ncnc(NCCCn4ccnc4)c3c2-c2ccccc2)cc1</td>\n      <td>1</td>\n      <td>0</td>\n    </tr>\n    <tr>\n      <th>2211</th>\n      <td>O[C@H](c1ccc2c(c1)OCO2)c1nccc2ccccc12</td>\n      <td>1</td>\n      <td>1</td>\n    </tr>\n    <tr>\n      <th>2455</th>\n      <td>O[C@@H](COc1ccc(Cl)c2ccccc12)C[NH+]1CCN(c2cccc...</td>\n      <td>1</td>\n      <td>0</td>\n    </tr>\n    <tr>\n      <th>2503</th>\n      <td>c1ccc(OCc2nc(-c3ccccc3)no2)cc1</td>\n      <td>1</td>\n      <td>1</td>\n    </tr>\n    <tr>\n      <th>2773</th>\n      <td>O=c1cc(-c2ccccc2)nc2nc(CCc3ccccc3)[nH]n12</td>\n      <td>1</td>\n      <td>1</td>\n    </tr>\n    <tr>\n      <th>2803</th>\n      <td>Nc1nc(C[NH+]2CCN(Cc3ccccc3)CC2)nc(Nc2ccc3c(c2)...</td>\n      <td>1</td>\n      <td>0</td>\n    </tr>\n    <tr>\n      <th>2890</th>\n      <td>c1cncc(Nc2nc(-c3ccncc3)cs2)c1</td>\n      <td>1</td>\n      <td>1</td>\n    </tr>\n    <tr>\n      <th>3085</th>\n      <td>CCOc1cc2[nH]c(=O)n(CCC(=O)NCCc3ccc(OC)c(OC)c3)...</td>\n      <td>1</td>\n      <td>0</td>\n    </tr>\n    <tr>\n      <th>3113</th>\n      <td>c1ccc(CC[N@H+]2CN=C(Nc3nc4ccccc4o3)NC2)cc1</td>\n      <td>1</td>\n      <td>0</td>\n    </tr>\n    <tr>\n      <th>3315</th>\n      <td>O=C1C[C@H](c2ccco2)c2ccc3ccccc3c2N1</td>\n      <td>1</td>\n      <td>0</td>\n    </tr>\n    <tr>\n      <th>3538</th>\n      <td>c1ccc(-c2noc(CN3CC[NH+](C(c4ccccc4)c4ccccc4)CC...</td>\n      <td>1</td>\n      <td>1</td>\n    </tr>\n    <tr>\n      <th>4205</th>\n      <td>c1ccc(-c2cc3c(N4CCOCC4)ncnc3s2)cc1</td>\n      <td>1</td>\n      <td>0</td>\n    </tr>\n    <tr>\n      <th>4210</th>\n      <td>N=c1nc(-c2ccccc2)ccn1O</td>\n      <td>1</td>\n      <td>1</td>\n    </tr>\n    <tr>\n      <th>4211</th>\n      <td>Oc1ccccc1-c1cc(-c2ccc3c(c2)OCCO3)n[nH]1</td>\n      <td>1</td>\n      <td>1</td>\n    </tr>\n  </tbody>\n</table>\n</div>"
     },
     "execution_count": 72,
     "metadata": {},
     "output_type": "execute_result"
    }
   ],
   "source": [
    "test_data[test_data['PKM2_inhibition'] == 1]"
   ],
   "metadata": {
    "collapsed": false,
    "ExecuteTime": {
     "end_time": "2024-06-13T18:29:17.714300Z",
     "start_time": "2024-06-13T18:29:17.709223Z"
    }
   },
   "id": "d0ab92e87ef0b0bc",
   "execution_count": 72
  },
  {
   "cell_type": "code",
   "outputs": [
    {
     "data": {
      "text/plain": "                                                 SMILES  PKM2_inhibition  \\\n22          O=P([O-])(CP(=O)(c1ccccc1)c1ccccc1)c1ccccc1                0   \n32               O=c1nc[nH]c2c1ncn2[C@H]1CC[C@@H](CO)O1                0   \n56                   C[NH+](C)CCC=C1c2ccccc2CCc2ccccc21                0   \n62                   CC[NH+](CC)CCn1c(OC)cc(=O)[nH]c1=O                0   \n176   Fc1ccc(Nc2nc(Oc3ccc4c(c3)OCO4)nc(N3CCOCC3)n2)c...                0   \n...                                                 ...              ...   \n4270             CN(C)S(=O)(=O)N1CCN(S(=O)(=O)N(C)C)CC1                0   \n4287         O=C(Nc1ccc2c(c1)OCO2)c1c(F)c(F)c(F)c(F)c1F                0   \n4328                            Fc1cc2nccnc2cc1N1CCSCC1                0   \n4344                   COc1c(C(C)C)oc2cc3oc(=O)ccc3cc12                0   \n4362             COc1ccc(OC)c(NS(=O)(=O)c2ccc(SC)cc2)c1                0   \n\n      ERK2_inhibition  \n22                  1  \n32                  1  \n56                  1  \n62                  1  \n176                 1  \n...               ...  \n4270                1  \n4287                1  \n4328                1  \n4344                1  \n4362                1  \n\n[135 rows x 3 columns]",
      "text/html": "<div>\n<style scoped>\n    .dataframe tbody tr th:only-of-type {\n        vertical-align: middle;\n    }\n\n    .dataframe tbody tr th {\n        vertical-align: top;\n    }\n\n    .dataframe thead th {\n        text-align: right;\n    }\n</style>\n<table border=\"1\" class=\"dataframe\">\n  <thead>\n    <tr style=\"text-align: right;\">\n      <th></th>\n      <th>SMILES</th>\n      <th>PKM2_inhibition</th>\n      <th>ERK2_inhibition</th>\n    </tr>\n  </thead>\n  <tbody>\n    <tr>\n      <th>22</th>\n      <td>O=P([O-])(CP(=O)(c1ccccc1)c1ccccc1)c1ccccc1</td>\n      <td>0</td>\n      <td>1</td>\n    </tr>\n    <tr>\n      <th>32</th>\n      <td>O=c1nc[nH]c2c1ncn2[C@H]1CC[C@@H](CO)O1</td>\n      <td>0</td>\n      <td>1</td>\n    </tr>\n    <tr>\n      <th>56</th>\n      <td>C[NH+](C)CCC=C1c2ccccc2CCc2ccccc21</td>\n      <td>0</td>\n      <td>1</td>\n    </tr>\n    <tr>\n      <th>62</th>\n      <td>CC[NH+](CC)CCn1c(OC)cc(=O)[nH]c1=O</td>\n      <td>0</td>\n      <td>1</td>\n    </tr>\n    <tr>\n      <th>176</th>\n      <td>Fc1ccc(Nc2nc(Oc3ccc4c(c3)OCO4)nc(N3CCOCC3)n2)c...</td>\n      <td>0</td>\n      <td>1</td>\n    </tr>\n    <tr>\n      <th>...</th>\n      <td>...</td>\n      <td>...</td>\n      <td>...</td>\n    </tr>\n    <tr>\n      <th>4270</th>\n      <td>CN(C)S(=O)(=O)N1CCN(S(=O)(=O)N(C)C)CC1</td>\n      <td>0</td>\n      <td>1</td>\n    </tr>\n    <tr>\n      <th>4287</th>\n      <td>O=C(Nc1ccc2c(c1)OCO2)c1c(F)c(F)c(F)c(F)c1F</td>\n      <td>0</td>\n      <td>1</td>\n    </tr>\n    <tr>\n      <th>4328</th>\n      <td>Fc1cc2nccnc2cc1N1CCSCC1</td>\n      <td>0</td>\n      <td>1</td>\n    </tr>\n    <tr>\n      <th>4344</th>\n      <td>COc1c(C(C)C)oc2cc3oc(=O)ccc3cc12</td>\n      <td>0</td>\n      <td>1</td>\n    </tr>\n    <tr>\n      <th>4362</th>\n      <td>COc1ccc(OC)c(NS(=O)(=O)c2ccc(SC)cc2)c1</td>\n      <td>0</td>\n      <td>1</td>\n    </tr>\n  </tbody>\n</table>\n<p>135 rows × 3 columns</p>\n</div>"
     },
     "execution_count": 73,
     "metadata": {},
     "output_type": "execute_result"
    }
   ],
   "source": [
    "test_data[test_data['ERK2_inhibition'] == 1]"
   ],
   "metadata": {
    "collapsed": false,
    "ExecuteTime": {
     "end_time": "2024-06-13T18:29:17.718347Z",
     "start_time": "2024-06-13T18:29:17.713413Z"
    }
   },
   "id": "8f3ef427cc2c829c",
   "execution_count": 73
  }
 ],
 "metadata": {
  "kernelspec": {
   "display_name": "Python 3",
   "language": "python",
   "name": "python3"
  },
  "language_info": {
   "codemirror_mode": {
    "name": "ipython",
    "version": 2
   },
   "file_extension": ".py",
   "mimetype": "text/x-python",
   "name": "python",
   "nbconvert_exporter": "python",
   "pygments_lexer": "ipython2",
   "version": "2.7.6"
  }
 },
 "nbformat": 4,
 "nbformat_minor": 5
}
