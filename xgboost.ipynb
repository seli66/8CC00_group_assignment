{
 "cells": [
  {
   "cell_type": "code",
   "execution_count": 13,
   "id": "initial_id",
   "metadata": {
    "collapsed": true,
    "ExecuteTime": {
     "end_time": "2024-06-13T10:55:42.158714Z",
     "start_time": "2024-06-13T10:55:42.156829Z"
    }
   },
   "outputs": [],
   "source": [
    "import pandas as pd\n",
    "import numpy as np\n",
    "from rdkit import Chem\n",
    "from rdkit.Chem import AllChem\n",
    "from sklearn.model_selection import train_test_split\n",
    "from sklearn.metrics import accuracy_score, confusion_matrix\n",
    "import xgboost as xgb"
   ]
  },
  {
   "cell_type": "code",
   "outputs": [],
   "source": [
    "def smiles_to_fingerprint(smiles, radius=2, n_bits=2048):\n",
    "    mol = Chem.MolFromSmiles(smiles)\n",
    "    if mol:\n",
    "        fp = AllChem.GetMorganFingerprintAsBitVect(mol, radius, nBits=n_bits)\n",
    "        return np.array(fp)\n",
    "    else:\n",
    "        return np.zeros(n_bits)\n",
    "\n",
    "train_data = pd.read_csv('data/tested_molecules.csv')\n",
    "\n",
    "X = np.array([smiles_to_fingerprint(smiles) for smiles in train_data['SMILES']])\n",
    "y_pkm2 = train_data['PKM2_inhibition'].values\n",
    "y_erk2 = train_data['ERK2_inhibition'].values\n",
    "\n",
    "X_train, X_val, y_train_pkm2, y_val_pkm2 = train_test_split(X, y_pkm2, test_size=0.2, random_state=42)\n",
    "_, _, y_train_erk2, y_val_erk2 = train_test_split(X, y_erk2, test_size=0.2, random_state=42)"
   ],
   "metadata": {
    "collapsed": false,
    "ExecuteTime": {
     "end_time": "2024-06-13T10:55:43.578137Z",
     "start_time": "2024-06-13T10:55:42.160453Z"
    }
   },
   "id": "daaf281d901b3de",
   "execution_count": 14
  },
  {
   "cell_type": "code",
   "outputs": [
    {
     "name": "stdout",
     "output_type": "stream",
     "text": [
      "XGBoost for PKM2 Model Performance:\n",
      "Accuracy: 97.3214%\n",
      "TP: 1, TN: 217, FP: 1, FN: 5\n",
      "------------------------------\n",
      "XGBoost for ERK2 Model Performance:\n",
      "Accuracy: 92.8571%\n",
      "TP: 0, TN: 208, FP: 0, FN: 16\n",
      "------------------------------\n"
     ]
    }
   ],
   "source": [
    "model_xgb_pkm2 = xgb.XGBClassifier()\n",
    "model_xgb_erk2 = xgb.XGBClassifier()\n",
    "\n",
    "model_xgb_pkm2.fit(X_train, y_train_pkm2)\n",
    "model_xgb_erk2.fit(X_train, y_train_erk2)\n",
    "\n",
    "def evaluate_model(model, X_val, y_val, label):\n",
    "    y_pred = (model.predict(X_val) > 0.5).astype(int).flatten()\n",
    "    accuracy = accuracy_score(y_val, y_pred)\n",
    "    tn, fp, fn, tp = confusion_matrix(y_val, y_pred).ravel()\n",
    "    \n",
    "    print(f\"{label} Model Performance:\")\n",
    "    print(f\"Accuracy: {accuracy * 100:.4f}%\")\n",
    "    print(f\"TP: {tp}, TN: {tn}, FP: {fp}, FN: {fn}\")\n",
    "    print(\"-\" * 30)\n",
    "\n",
    "evaluate_model(model_xgb_pkm2, X_val, y_val_pkm2, \"XGBoost for PKM2\")\n",
    "evaluate_model(model_xgb_erk2, X_val, y_val_erk2, \"XGBoost for ERK2\")"
   ],
   "metadata": {
    "collapsed": false,
    "ExecuteTime": {
     "end_time": "2024-06-13T10:55:44.100524Z",
     "start_time": "2024-06-13T10:55:43.579632Z"
    }
   },
   "id": "f732c770dad7a2d2",
   "execution_count": 15
  },
  {
   "cell_type": "code",
   "outputs": [
    {
     "data": {
      "text/plain": "                                       SMILES  PKM2_inhibition  \\\n0  C[C@@H](Sc1nc(=O)cc(N)[nH]1)C(=O)NC1CCCCC1              NaN   \n1          O=C(CCN1C(=O)COc2ccccc21)NCc1cccs1              NaN   \n2      Cn1nnnc1SCC(=O)N1CC[NH+](Cc2ccccc2)CC1              NaN   \n3  CCOC(=O)CCP(=O)([O-])[C@@H](O)c1ccc(OC)cc1              NaN   \n4               C=CCNC(=O)c1cc(-c2ccccc2O)on1              NaN   \n\n   ERK2_inhibition  \n0              NaN  \n1              NaN  \n2              NaN  \n3              NaN  \n4              NaN  ",
      "text/html": "<div>\n<style scoped>\n    .dataframe tbody tr th:only-of-type {\n        vertical-align: middle;\n    }\n\n    .dataframe tbody tr th {\n        vertical-align: top;\n    }\n\n    .dataframe thead th {\n        text-align: right;\n    }\n</style>\n<table border=\"1\" class=\"dataframe\">\n  <thead>\n    <tr style=\"text-align: right;\">\n      <th></th>\n      <th>SMILES</th>\n      <th>PKM2_inhibition</th>\n      <th>ERK2_inhibition</th>\n    </tr>\n  </thead>\n  <tbody>\n    <tr>\n      <th>0</th>\n      <td>C[C@@H](Sc1nc(=O)cc(N)[nH]1)C(=O)NC1CCCCC1</td>\n      <td>NaN</td>\n      <td>NaN</td>\n    </tr>\n    <tr>\n      <th>1</th>\n      <td>O=C(CCN1C(=O)COc2ccccc21)NCc1cccs1</td>\n      <td>NaN</td>\n      <td>NaN</td>\n    </tr>\n    <tr>\n      <th>2</th>\n      <td>Cn1nnnc1SCC(=O)N1CC[NH+](Cc2ccccc2)CC1</td>\n      <td>NaN</td>\n      <td>NaN</td>\n    </tr>\n    <tr>\n      <th>3</th>\n      <td>CCOC(=O)CCP(=O)([O-])[C@@H](O)c1ccc(OC)cc1</td>\n      <td>NaN</td>\n      <td>NaN</td>\n    </tr>\n    <tr>\n      <th>4</th>\n      <td>C=CCNC(=O)c1cc(-c2ccccc2O)on1</td>\n      <td>NaN</td>\n      <td>NaN</td>\n    </tr>\n  </tbody>\n</table>\n</div>"
     },
     "execution_count": 16,
     "metadata": {},
     "output_type": "execute_result"
    }
   ],
   "source": [
    "test_data = pd.read_csv('data/untested_molecules-3.csv')\n",
    "\n",
    "test_data.head()"
   ],
   "metadata": {
    "collapsed": false,
    "ExecuteTime": {
     "end_time": "2024-06-13T10:55:44.109035Z",
     "start_time": "2024-06-13T10:55:44.101418Z"
    }
   },
   "id": "b3cd7a3967f9950a",
   "execution_count": 16
  },
  {
   "cell_type": "code",
   "outputs": [],
   "source": [
    "X_test = np.array([smiles_to_fingerprint(smiles) for smiles in test_data['SMILES']])"
   ],
   "metadata": {
    "collapsed": false,
    "ExecuteTime": {
     "end_time": "2024-06-13T10:55:49.742626Z",
     "start_time": "2024-06-13T10:55:44.180018Z"
    }
   },
   "id": "cb3e5786df902d01",
   "execution_count": 17
  },
  {
   "cell_type": "code",
   "outputs": [],
   "source": [
    "test_data['PKM2_inhibition'] = model_xgb_pkm2.predict(X_test)\n",
    "test_data['ERK2_inhibition'] = model_xgb_erk2.predict(X_test)"
   ],
   "metadata": {
    "collapsed": false,
    "ExecuteTime": {
     "end_time": "2024-06-13T10:55:49.757315Z",
     "start_time": "2024-06-13T10:55:49.746807Z"
    }
   },
   "id": "8c86231afcda7930",
   "execution_count": 18
  },
  {
   "cell_type": "code",
   "outputs": [
    {
     "data": {
      "text/plain": "                                                 SMILES  PKM2_inhibition  \\\n279    Cc1ccnc2nc(C(=O)N3CCN(S(=O)(=O)c4ccccc4)CC3)nn12                1   \n519   O=C(c1ccc([N-]S(=O)(=O)c2ccccc2)cc1)N1CC[NH+](...                1   \n524   Cc1cc(-n2c(C)cc(C(=O)CSc3nc4ccccc4c(=O)n3Cc3cc...                1   \n1178         COc1ccc(OCc2nn3c(Cn4cnc5ccccc54)nnc3s2)cc1                1   \n1310  O=C(c1ccc(S(=O)(=O)N2CCCC2)cc1)N1CC[NH+](Cc2cc...                1   \n1362  C=CCn1c(=O)/c(=C/c2ccc(C)o2)s/c1=C(/C#N)C(=O)c...                1   \n1427     Cc1cc(NC(=O)CSc2nnc3c(C)cc4c(C)ccc(C)c4n23)no1                1   \n1475                     O=c1c2ccccc2ncn1Cc1nc2ccccc2s1                1   \n1514           c1ccc(OCc2nn3c(Cn4cnc5ccccc54)nnc3s2)cc1                1   \n1630   CCOC(=O)c1c(-c2ccc(C)o2)csc1NC(=O)COC(=O)c1cccs1                1   \n1700     c1ccc2c(c1)ncn2Cc1nnc2sc(-c3ccc4c(c3)OCO4)nn12                1   \n1869  O=C(CCCc1c[nH]c2ccccc12)N1CCN(S(=O)(=O)c2cccs2...                1   \n1939            Clc1ccccc1-c1nn2c(Cn3cnc4ccccc43)nnc2s1                1   \n2223  COc1ccc2c(CC(=O)N3CCN(S(=O)(=O)c4cccs4)CC3)coc2c1                1   \n2261  Cc1sc2ncnc(OCC(=O)N3CCN(S(=O)(=O)c4ccccc4)CC3)...                1   \n2282  CCOc1cc(C(=O)Nc2ccc(S(=O)(=O)[N-]c3cc(C)on3)cc...                1   \n2553    O=C(CCCc1nc2ccccc2s1)N1CCN(S(=O)(=O)c2cccs2)CC1                1   \n2660  CCOC(=O)Cc1csc(NC(=O)c2ccc(S(=O)(=O)N3CCCCC3)c...                1   \n2693  COc1ccc(OC)c(NC(=O)COC(=O)c2ccc(S(=O)(=O)N3CCO...                1   \n2873  Cc1sc2ncnc(OCC(=O)c3ccc(S(=O)(=O)N4CCCC4)cc3)c...                1   \n2881      O=C(NCCCn1ccnc1)c1cccc(S(=O)(=O)Nc2ccccc2F)c1                1   \n2887               Cc1cc(NC(=O)CSc2ncn(-c3ccccc3)n2)no1                1   \n3030        Cc1ccc(CN(C)C(=O)[C@H]2CCCN2C(=O)c2cccs2)o1                1   \n3105              Cc1cc(NC(=O)CSc2nnc(COc3ccccc3)o2)no1                1   \n3145                 Cc1cc(NC(=O)CSc2nc3ccccc3[nH]2)no1                1   \n3203            Cc1cc(NC(=O)CSc2nnc(-c3ccc(Cl)s3)o2)no1                1   \n3724                  Fc1ccccc1Cn1nnc2c(-n3ccnc3)ncnc21                1   \n3801     CCOC(=O)c1c(-c2ccc(C)o2)csc1NC(=O)CSc1nnc(C)s1                1   \n3866   O=C(COC(=O)c1ccc(S(=O)(=O)N2CCCC2)cc1)NCc1ccccc1                1   \n4063  COc1cc(C(C)=O)ccc1OC[C@@H](O)C[NH+]1CCN(S(=O)(...                1   \n4365  O=C(COC(=O)C1CCN(S(=O)(=O)c2cccs2)CC1)c1ccc2c(...                1   \n\n      ERK2_inhibition  \n279                 0  \n519                 0  \n524                 0  \n1178                0  \n1310                0  \n1362                0  \n1427                0  \n1475                0  \n1514                0  \n1630                0  \n1700                0  \n1869                0  \n1939                0  \n2223                0  \n2261                0  \n2282                0  \n2553                0  \n2660                0  \n2693                0  \n2873                0  \n2881                0  \n2887                0  \n3030                0  \n3105                0  \n3145                0  \n3203                0  \n3724                0  \n3801                0  \n3866                0  \n4063                0  \n4365                0  ",
      "text/html": "<div>\n<style scoped>\n    .dataframe tbody tr th:only-of-type {\n        vertical-align: middle;\n    }\n\n    .dataframe tbody tr th {\n        vertical-align: top;\n    }\n\n    .dataframe thead th {\n        text-align: right;\n    }\n</style>\n<table border=\"1\" class=\"dataframe\">\n  <thead>\n    <tr style=\"text-align: right;\">\n      <th></th>\n      <th>SMILES</th>\n      <th>PKM2_inhibition</th>\n      <th>ERK2_inhibition</th>\n    </tr>\n  </thead>\n  <tbody>\n    <tr>\n      <th>279</th>\n      <td>Cc1ccnc2nc(C(=O)N3CCN(S(=O)(=O)c4ccccc4)CC3)nn12</td>\n      <td>1</td>\n      <td>0</td>\n    </tr>\n    <tr>\n      <th>519</th>\n      <td>O=C(c1ccc([N-]S(=O)(=O)c2ccccc2)cc1)N1CC[NH+](...</td>\n      <td>1</td>\n      <td>0</td>\n    </tr>\n    <tr>\n      <th>524</th>\n      <td>Cc1cc(-n2c(C)cc(C(=O)CSc3nc4ccccc4c(=O)n3Cc3cc...</td>\n      <td>1</td>\n      <td>0</td>\n    </tr>\n    <tr>\n      <th>1178</th>\n      <td>COc1ccc(OCc2nn3c(Cn4cnc5ccccc54)nnc3s2)cc1</td>\n      <td>1</td>\n      <td>0</td>\n    </tr>\n    <tr>\n      <th>1310</th>\n      <td>O=C(c1ccc(S(=O)(=O)N2CCCC2)cc1)N1CC[NH+](Cc2cc...</td>\n      <td>1</td>\n      <td>0</td>\n    </tr>\n    <tr>\n      <th>1362</th>\n      <td>C=CCn1c(=O)/c(=C/c2ccc(C)o2)s/c1=C(/C#N)C(=O)c...</td>\n      <td>1</td>\n      <td>0</td>\n    </tr>\n    <tr>\n      <th>1427</th>\n      <td>Cc1cc(NC(=O)CSc2nnc3c(C)cc4c(C)ccc(C)c4n23)no1</td>\n      <td>1</td>\n      <td>0</td>\n    </tr>\n    <tr>\n      <th>1475</th>\n      <td>O=c1c2ccccc2ncn1Cc1nc2ccccc2s1</td>\n      <td>1</td>\n      <td>0</td>\n    </tr>\n    <tr>\n      <th>1514</th>\n      <td>c1ccc(OCc2nn3c(Cn4cnc5ccccc54)nnc3s2)cc1</td>\n      <td>1</td>\n      <td>0</td>\n    </tr>\n    <tr>\n      <th>1630</th>\n      <td>CCOC(=O)c1c(-c2ccc(C)o2)csc1NC(=O)COC(=O)c1cccs1</td>\n      <td>1</td>\n      <td>0</td>\n    </tr>\n    <tr>\n      <th>1700</th>\n      <td>c1ccc2c(c1)ncn2Cc1nnc2sc(-c3ccc4c(c3)OCO4)nn12</td>\n      <td>1</td>\n      <td>0</td>\n    </tr>\n    <tr>\n      <th>1869</th>\n      <td>O=C(CCCc1c[nH]c2ccccc12)N1CCN(S(=O)(=O)c2cccs2...</td>\n      <td>1</td>\n      <td>0</td>\n    </tr>\n    <tr>\n      <th>1939</th>\n      <td>Clc1ccccc1-c1nn2c(Cn3cnc4ccccc43)nnc2s1</td>\n      <td>1</td>\n      <td>0</td>\n    </tr>\n    <tr>\n      <th>2223</th>\n      <td>COc1ccc2c(CC(=O)N3CCN(S(=O)(=O)c4cccs4)CC3)coc2c1</td>\n      <td>1</td>\n      <td>0</td>\n    </tr>\n    <tr>\n      <th>2261</th>\n      <td>Cc1sc2ncnc(OCC(=O)N3CCN(S(=O)(=O)c4ccccc4)CC3)...</td>\n      <td>1</td>\n      <td>0</td>\n    </tr>\n    <tr>\n      <th>2282</th>\n      <td>CCOc1cc(C(=O)Nc2ccc(S(=O)(=O)[N-]c3cc(C)on3)cc...</td>\n      <td>1</td>\n      <td>0</td>\n    </tr>\n    <tr>\n      <th>2553</th>\n      <td>O=C(CCCc1nc2ccccc2s1)N1CCN(S(=O)(=O)c2cccs2)CC1</td>\n      <td>1</td>\n      <td>0</td>\n    </tr>\n    <tr>\n      <th>2660</th>\n      <td>CCOC(=O)Cc1csc(NC(=O)c2ccc(S(=O)(=O)N3CCCCC3)c...</td>\n      <td>1</td>\n      <td>0</td>\n    </tr>\n    <tr>\n      <th>2693</th>\n      <td>COc1ccc(OC)c(NC(=O)COC(=O)c2ccc(S(=O)(=O)N3CCO...</td>\n      <td>1</td>\n      <td>0</td>\n    </tr>\n    <tr>\n      <th>2873</th>\n      <td>Cc1sc2ncnc(OCC(=O)c3ccc(S(=O)(=O)N4CCCC4)cc3)c...</td>\n      <td>1</td>\n      <td>0</td>\n    </tr>\n    <tr>\n      <th>2881</th>\n      <td>O=C(NCCCn1ccnc1)c1cccc(S(=O)(=O)Nc2ccccc2F)c1</td>\n      <td>1</td>\n      <td>0</td>\n    </tr>\n    <tr>\n      <th>2887</th>\n      <td>Cc1cc(NC(=O)CSc2ncn(-c3ccccc3)n2)no1</td>\n      <td>1</td>\n      <td>0</td>\n    </tr>\n    <tr>\n      <th>3030</th>\n      <td>Cc1ccc(CN(C)C(=O)[C@H]2CCCN2C(=O)c2cccs2)o1</td>\n      <td>1</td>\n      <td>0</td>\n    </tr>\n    <tr>\n      <th>3105</th>\n      <td>Cc1cc(NC(=O)CSc2nnc(COc3ccccc3)o2)no1</td>\n      <td>1</td>\n      <td>0</td>\n    </tr>\n    <tr>\n      <th>3145</th>\n      <td>Cc1cc(NC(=O)CSc2nc3ccccc3[nH]2)no1</td>\n      <td>1</td>\n      <td>0</td>\n    </tr>\n    <tr>\n      <th>3203</th>\n      <td>Cc1cc(NC(=O)CSc2nnc(-c3ccc(Cl)s3)o2)no1</td>\n      <td>1</td>\n      <td>0</td>\n    </tr>\n    <tr>\n      <th>3724</th>\n      <td>Fc1ccccc1Cn1nnc2c(-n3ccnc3)ncnc21</td>\n      <td>1</td>\n      <td>0</td>\n    </tr>\n    <tr>\n      <th>3801</th>\n      <td>CCOC(=O)c1c(-c2ccc(C)o2)csc1NC(=O)CSc1nnc(C)s1</td>\n      <td>1</td>\n      <td>0</td>\n    </tr>\n    <tr>\n      <th>3866</th>\n      <td>O=C(COC(=O)c1ccc(S(=O)(=O)N2CCCC2)cc1)NCc1ccccc1</td>\n      <td>1</td>\n      <td>0</td>\n    </tr>\n    <tr>\n      <th>4063</th>\n      <td>COc1cc(C(C)=O)ccc1OC[C@@H](O)C[NH+]1CCN(S(=O)(...</td>\n      <td>1</td>\n      <td>0</td>\n    </tr>\n    <tr>\n      <th>4365</th>\n      <td>O=C(COC(=O)C1CCN(S(=O)(=O)c2cccs2)CC1)c1ccc2c(...</td>\n      <td>1</td>\n      <td>0</td>\n    </tr>\n  </tbody>\n</table>\n</div>"
     },
     "execution_count": 19,
     "metadata": {},
     "output_type": "execute_result"
    }
   ],
   "source": [
    "test_data[test_data['PKM2_inhibition'] == 1]"
   ],
   "metadata": {
    "collapsed": false,
    "ExecuteTime": {
     "end_time": "2024-06-13T10:55:49.763463Z",
     "start_time": "2024-06-13T10:55:49.757712Z"
    }
   },
   "id": "9a0a1f8effc7b06e",
   "execution_count": 19
  },
  {
   "cell_type": "code",
   "outputs": [
    {
     "data": {
      "text/plain": "                                                 SMILES  PKM2_inhibition  \\\n294                     c1ccc(CCCc2nc(-c3ccccn3)no2)cc1                0   \n1201             C(=N/c1c(-c2ccccc2)nc2n1CCS2)\\c1ccccc1                0   \n1243                OCC[NH+]1CCN(Cc2nc(O)c3ccccc3n2)CC1                0   \n1291      Oc1c([C@@H](c2ccccn2)[NH+]2CCOCC2)ccc2cccnc12                0   \n1900      Nc1nc(CSc2n[nH]c(-c3ccccc3)n2)nc(Nc2ccccc2)n1                0   \n1943     c1ccc(-c2oc3ncnc(NCCCn4ccnc4)c3c2-c2ccccc2)cc1                0   \n2211              O[C@H](c1ccc2c(c1)OCO2)c1nccc2ccccc12                0   \n2455  O[C@@H](COc1ccc(Cl)c2ccccc12)C[NH+]1CCN(c2cccc...                0   \n2503                     c1ccc(OCc2nc(-c3ccccc3)no2)cc1                0   \n2773          O=c1cc(-c2ccccc2)nc2nc(CCc3ccccc3)[nH]n12                0   \n2803  Nc1nc(C[NH+]2CCN(Cc3ccccc3)CC2)nc(Nc2ccc3c(c2)...                0   \n2890                      c1cncc(Nc2nc(-c3ccncc3)cs2)c1                0   \n3085  CCOc1cc2[nH]c(=O)n(CCC(=O)NCCc3ccc(OC)c(OC)c3)...                0   \n3113         c1ccc(CC[N@H+]2CN=C(Nc3nc4ccccc4o3)NC2)cc1                0   \n3315                O=C1C[C@H](c2ccco2)c2ccc3ccccc3c2N1                0   \n3538  c1ccc(-c2noc(CN3CC[NH+](C(c4ccccc4)c4ccccc4)CC...                0   \n4205                 c1ccc(-c2cc3c(N4CCOCC4)ncnc3s2)cc1                0   \n4210                             N=c1nc(-c2ccccc2)ccn1O                0   \n4211            Oc1ccccc1-c1cc(-c2ccc3c(c2)OCCO3)n[nH]1                0   \n\n      ERK2_inhibition  \n294                 1  \n1201                1  \n1243                1  \n1291                1  \n1900                1  \n1943                1  \n2211                1  \n2455                1  \n2503                1  \n2773                1  \n2803                1  \n2890                1  \n3085                1  \n3113                1  \n3315                1  \n3538                1  \n4205                1  \n4210                1  \n4211                1  ",
      "text/html": "<div>\n<style scoped>\n    .dataframe tbody tr th:only-of-type {\n        vertical-align: middle;\n    }\n\n    .dataframe tbody tr th {\n        vertical-align: top;\n    }\n\n    .dataframe thead th {\n        text-align: right;\n    }\n</style>\n<table border=\"1\" class=\"dataframe\">\n  <thead>\n    <tr style=\"text-align: right;\">\n      <th></th>\n      <th>SMILES</th>\n      <th>PKM2_inhibition</th>\n      <th>ERK2_inhibition</th>\n    </tr>\n  </thead>\n  <tbody>\n    <tr>\n      <th>294</th>\n      <td>c1ccc(CCCc2nc(-c3ccccn3)no2)cc1</td>\n      <td>0</td>\n      <td>1</td>\n    </tr>\n    <tr>\n      <th>1201</th>\n      <td>C(=N/c1c(-c2ccccc2)nc2n1CCS2)\\c1ccccc1</td>\n      <td>0</td>\n      <td>1</td>\n    </tr>\n    <tr>\n      <th>1243</th>\n      <td>OCC[NH+]1CCN(Cc2nc(O)c3ccccc3n2)CC1</td>\n      <td>0</td>\n      <td>1</td>\n    </tr>\n    <tr>\n      <th>1291</th>\n      <td>Oc1c([C@@H](c2ccccn2)[NH+]2CCOCC2)ccc2cccnc12</td>\n      <td>0</td>\n      <td>1</td>\n    </tr>\n    <tr>\n      <th>1900</th>\n      <td>Nc1nc(CSc2n[nH]c(-c3ccccc3)n2)nc(Nc2ccccc2)n1</td>\n      <td>0</td>\n      <td>1</td>\n    </tr>\n    <tr>\n      <th>1943</th>\n      <td>c1ccc(-c2oc3ncnc(NCCCn4ccnc4)c3c2-c2ccccc2)cc1</td>\n      <td>0</td>\n      <td>1</td>\n    </tr>\n    <tr>\n      <th>2211</th>\n      <td>O[C@H](c1ccc2c(c1)OCO2)c1nccc2ccccc12</td>\n      <td>0</td>\n      <td>1</td>\n    </tr>\n    <tr>\n      <th>2455</th>\n      <td>O[C@@H](COc1ccc(Cl)c2ccccc12)C[NH+]1CCN(c2cccc...</td>\n      <td>0</td>\n      <td>1</td>\n    </tr>\n    <tr>\n      <th>2503</th>\n      <td>c1ccc(OCc2nc(-c3ccccc3)no2)cc1</td>\n      <td>0</td>\n      <td>1</td>\n    </tr>\n    <tr>\n      <th>2773</th>\n      <td>O=c1cc(-c2ccccc2)nc2nc(CCc3ccccc3)[nH]n12</td>\n      <td>0</td>\n      <td>1</td>\n    </tr>\n    <tr>\n      <th>2803</th>\n      <td>Nc1nc(C[NH+]2CCN(Cc3ccccc3)CC2)nc(Nc2ccc3c(c2)...</td>\n      <td>0</td>\n      <td>1</td>\n    </tr>\n    <tr>\n      <th>2890</th>\n      <td>c1cncc(Nc2nc(-c3ccncc3)cs2)c1</td>\n      <td>0</td>\n      <td>1</td>\n    </tr>\n    <tr>\n      <th>3085</th>\n      <td>CCOc1cc2[nH]c(=O)n(CCC(=O)NCCc3ccc(OC)c(OC)c3)...</td>\n      <td>0</td>\n      <td>1</td>\n    </tr>\n    <tr>\n      <th>3113</th>\n      <td>c1ccc(CC[N@H+]2CN=C(Nc3nc4ccccc4o3)NC2)cc1</td>\n      <td>0</td>\n      <td>1</td>\n    </tr>\n    <tr>\n      <th>3315</th>\n      <td>O=C1C[C@H](c2ccco2)c2ccc3ccccc3c2N1</td>\n      <td>0</td>\n      <td>1</td>\n    </tr>\n    <tr>\n      <th>3538</th>\n      <td>c1ccc(-c2noc(CN3CC[NH+](C(c4ccccc4)c4ccccc4)CC...</td>\n      <td>0</td>\n      <td>1</td>\n    </tr>\n    <tr>\n      <th>4205</th>\n      <td>c1ccc(-c2cc3c(N4CCOCC4)ncnc3s2)cc1</td>\n      <td>0</td>\n      <td>1</td>\n    </tr>\n    <tr>\n      <th>4210</th>\n      <td>N=c1nc(-c2ccccc2)ccn1O</td>\n      <td>0</td>\n      <td>1</td>\n    </tr>\n    <tr>\n      <th>4211</th>\n      <td>Oc1ccccc1-c1cc(-c2ccc3c(c2)OCCO3)n[nH]1</td>\n      <td>0</td>\n      <td>1</td>\n    </tr>\n  </tbody>\n</table>\n</div>"
     },
     "execution_count": 20,
     "metadata": {},
     "output_type": "execute_result"
    }
   ],
   "source": [
    "test_data[test_data['ERK2_inhibition'] == 1]"
   ],
   "metadata": {
    "collapsed": false,
    "ExecuteTime": {
     "end_time": "2024-06-13T10:55:49.770086Z",
     "start_time": "2024-06-13T10:55:49.765243Z"
    }
   },
   "id": "d0ab92e87ef0b0bc",
   "execution_count": 20
  }
 ],
 "metadata": {
  "kernelspec": {
   "display_name": "Python 3",
   "language": "python",
   "name": "python3"
  },
  "language_info": {
   "codemirror_mode": {
    "name": "ipython",
    "version": 2
   },
   "file_extension": ".py",
   "mimetype": "text/x-python",
   "name": "python",
   "nbconvert_exporter": "python",
   "pygments_lexer": "ipython2",
   "version": "2.7.6"
  }
 },
 "nbformat": 4,
 "nbformat_minor": 5
}
