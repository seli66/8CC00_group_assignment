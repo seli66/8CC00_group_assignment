{
 "cells": [
  {
   "cell_type": "code",
   "execution_count": 16,
   "id": "initial_id",
   "metadata": {
    "collapsed": true,
    "ExecuteTime": {
     "end_time": "2024-06-12T18:37:54.683119Z",
     "start_time": "2024-06-12T18:37:54.679817Z"
    }
   },
   "outputs": [],
   "source": [
    "import pandas as pd\n",
    "import numpy as np\n",
    "from rdkit import Chem\n",
    "from rdkit.Chem import AllChem\n",
    "from sklearn.model_selection import train_test_split\n",
    "from tensorflow.keras.models import Sequential\n",
    "from sklearn.metrics import accuracy_score, confusion_matrix\n",
    "from tensorflow.keras.layers import Conv1D, Dense, Flatten, MaxPooling1D\n",
    "from tensorflow.keras.optimizers import Adam"
   ]
  },
  {
   "cell_type": "code",
   "outputs": [
    {
     "data": {
      "text/plain": "                                SMILES  PKM2_inhibition  ERK2_inhibition\n0                 C=C(C)c1nc(N)nc(N)n1                0                0\n1       C=C(Cl)COc1ccc2c(C)cc(=O)oc2c1                0                0\n2              C=CCNC(=O)CCCC(=O)NCC=C                0                0\n3  C=CCOn1c(=O)c(C)[n+]([O-])c2ccccc21                0                0\n4         C=CCn1cc(Cl)c(=O)n(CC=C)c1=O                0                0",
      "text/html": "<div>\n<style scoped>\n    .dataframe tbody tr th:only-of-type {\n        vertical-align: middle;\n    }\n\n    .dataframe tbody tr th {\n        vertical-align: top;\n    }\n\n    .dataframe thead th {\n        text-align: right;\n    }\n</style>\n<table border=\"1\" class=\"dataframe\">\n  <thead>\n    <tr style=\"text-align: right;\">\n      <th></th>\n      <th>SMILES</th>\n      <th>PKM2_inhibition</th>\n      <th>ERK2_inhibition</th>\n    </tr>\n  </thead>\n  <tbody>\n    <tr>\n      <th>0</th>\n      <td>C=C(C)c1nc(N)nc(N)n1</td>\n      <td>0</td>\n      <td>0</td>\n    </tr>\n    <tr>\n      <th>1</th>\n      <td>C=C(Cl)COc1ccc2c(C)cc(=O)oc2c1</td>\n      <td>0</td>\n      <td>0</td>\n    </tr>\n    <tr>\n      <th>2</th>\n      <td>C=CCNC(=O)CCCC(=O)NCC=C</td>\n      <td>0</td>\n      <td>0</td>\n    </tr>\n    <tr>\n      <th>3</th>\n      <td>C=CCOn1c(=O)c(C)[n+]([O-])c2ccccc21</td>\n      <td>0</td>\n      <td>0</td>\n    </tr>\n    <tr>\n      <th>4</th>\n      <td>C=CCn1cc(Cl)c(=O)n(CC=C)c1=O</td>\n      <td>0</td>\n      <td>0</td>\n    </tr>\n  </tbody>\n</table>\n</div>"
     },
     "execution_count": 17,
     "metadata": {},
     "output_type": "execute_result"
    }
   ],
   "source": [
    "train_data = pd.read_csv('data/tested_molecules.csv')\n",
    "\n",
    "train_data.head()"
   ],
   "metadata": {
    "collapsed": false,
    "ExecuteTime": {
     "end_time": "2024-06-12T18:37:54.700794Z",
     "start_time": "2024-06-12T18:37:54.683658Z"
    }
   },
   "id": "795d61772e4edab0",
   "execution_count": 17
  },
  {
   "cell_type": "code",
   "outputs": [],
   "source": [
    "def smiles_to_fingerprint(smiles, radius=2, n_bits=2048):\n",
    "    mol = Chem.MolFromSmiles(smiles)\n",
    "    if mol:\n",
    "        fp = AllChem.GetMorganFingerprintAsBitVect(mol, radius, nBits=n_bits)\n",
    "        return np.array(fp)\n",
    "    else:\n",
    "        return np.zeros(n_bits)"
   ],
   "metadata": {
    "collapsed": false,
    "ExecuteTime": {
     "end_time": "2024-06-12T18:37:54.701126Z",
     "start_time": "2024-06-12T18:37:54.692908Z"
    }
   },
   "id": "655b8418ac35051a",
   "execution_count": 18
  },
  {
   "cell_type": "code",
   "outputs": [],
   "source": [
    "X = np.array([smiles_to_fingerprint(smiles) for smiles in train_data['SMILES']])\n",
    "y_pkm2 = train_data['PKM2_inhibition'].values\n",
    "y_erk2 = train_data['ERK2_inhibition'].values"
   ],
   "metadata": {
    "collapsed": false,
    "ExecuteTime": {
     "end_time": "2024-06-12T18:37:56.166226Z",
     "start_time": "2024-06-12T18:37:54.708568Z"
    }
   },
   "id": "64634eed60629625",
   "execution_count": 19
  },
  {
   "cell_type": "code",
   "outputs": [],
   "source": [
    "X_train, X_val, y_pkm2_train, y_pkm2_val, y_erk2_train, y_erk2_val = train_test_split(\n",
    "    X, y_pkm2, y_erk2, test_size=0.2, random_state=42\n",
    ")"
   ],
   "metadata": {
    "collapsed": false,
    "ExecuteTime": {
     "end_time": "2024-06-12T18:37:56.173660Z",
     "start_time": "2024-06-12T18:37:56.166858Z"
    }
   },
   "id": "1ba1066aa19b6e9e",
   "execution_count": 20
  },
  {
   "cell_type": "code",
   "outputs": [],
   "source": [
    "def build_cnn_model(input_shape):\n",
    "    model = Sequential([\n",
    "        Conv1D(32, 3, activation='relu', input_shape=input_shape),\n",
    "        MaxPooling1D(2),\n",
    "        Conv1D(64, 3, activation='relu'),\n",
    "        MaxPooling1D(2),\n",
    "        Flatten(),\n",
    "        Dense(128, activation='relu'),\n",
    "        Dense(1, activation='sigmoid')\n",
    "    ])\n",
    "    model.compile(optimizer=Adam(learning_rate=0.001), loss='binary_crossentropy', metrics=['accuracy'])\n",
    "    return model\n",
    "\n",
    "input_shape = (X_train.shape[1], 1)"
   ],
   "metadata": {
    "collapsed": false,
    "ExecuteTime": {
     "end_time": "2024-06-12T18:37:56.177472Z",
     "start_time": "2024-06-12T18:37:56.172568Z"
    }
   },
   "id": "fc7900c0af49c0a2",
   "execution_count": 21
  },
  {
   "cell_type": "code",
   "outputs": [],
   "source": [
    "def print_model_performance(model, X_val, y_val, label):\n",
    "    y_pred = (model.predict(X_val) > 0.5).astype(int).flatten()\n",
    "    accuracy = accuracy_score(y_val, y_pred)\n",
    "    tn, fp, fn, tp = confusion_matrix(y_val, y_pred).ravel()\n",
    "    print(f\"{label} Model Performance:\")\n",
    "    print(f\"Accuracy: {accuracy * 100:.4f}%\")\n",
    "    print(f\"TP: {tp}, TN: {tn}, FP: {fp}, FN: {fn}\")\n",
    "    print(\"-\" * 30)"
   ],
   "metadata": {
    "collapsed": false,
    "ExecuteTime": {
     "end_time": "2024-06-12T18:37:56.177727Z",
     "start_time": "2024-06-12T18:37:56.174519Z"
    }
   },
   "id": "8c2a578dbda87377",
   "execution_count": 22
  },
  {
   "cell_type": "code",
   "outputs": [],
   "source": [
    "X_train_cnn = X_train.reshape((X_train.shape[0], X_train.shape[1], 1))\n",
    "X_val_cnn = X_val.reshape((X_val.shape[0], X_val.shape[1], 1))"
   ],
   "metadata": {
    "collapsed": false,
    "ExecuteTime": {
     "end_time": "2024-06-12T18:37:56.181547Z",
     "start_time": "2024-06-12T18:37:56.177955Z"
    }
   },
   "id": "6b8bc1d299aa9189",
   "execution_count": 23
  },
  {
   "cell_type": "code",
   "outputs": [
    {
     "name": "stdout",
     "output_type": "stream",
     "text": [
      "Epoch 1/10\n"
     ]
    },
    {
     "name": "stderr",
     "output_type": "stream",
     "text": [
      "/Users/pdixit/.pyenv/versions/3.10.1/lib/python3.10/site-packages/keras/src/layers/convolutional/base_conv.py:107: UserWarning: Do not pass an `input_shape`/`input_dim` argument to a layer. When using Sequential models, prefer using an `Input(shape)` object as the first layer in the model instead.\n",
      "  super().__init__(activity_regularizer=activity_regularizer, **kwargs)\n"
     ]
    },
    {
     "name": "stdout",
     "output_type": "stream",
     "text": [
      "\u001B[1m28/28\u001B[0m \u001B[32m━━━━━━━━━━━━━━━━━━━━\u001B[0m\u001B[37m\u001B[0m \u001B[1m1s\u001B[0m 22ms/step - accuracy: 0.8875 - loss: 0.2418 - val_accuracy: 0.9732 - val_loss: 0.1128\n",
      "Epoch 2/10\n",
      "\u001B[1m28/28\u001B[0m \u001B[32m━━━━━━━━━━━━━━━━━━━━\u001B[0m\u001B[37m\u001B[0m \u001B[1m1s\u001B[0m 24ms/step - accuracy: 0.9743 - loss: 0.0952 - val_accuracy: 0.9732 - val_loss: 0.0939\n",
      "Epoch 3/10\n",
      "\u001B[1m28/28\u001B[0m \u001B[32m━━━━━━━━━━━━━━━━━━━━\u001B[0m\u001B[37m\u001B[0m \u001B[1m1s\u001B[0m 21ms/step - accuracy: 0.9793 - loss: 0.0502 - val_accuracy: 0.9732 - val_loss: 0.0826\n",
      "Epoch 4/10\n",
      "\u001B[1m28/28\u001B[0m \u001B[32m━━━━━━━━━━━━━━━━━━━━\u001B[0m\u001B[37m\u001B[0m \u001B[1m1s\u001B[0m 20ms/step - accuracy: 0.9780 - loss: 0.0364 - val_accuracy: 0.9732 - val_loss: 0.1192\n",
      "Epoch 5/10\n",
      "\u001B[1m28/28\u001B[0m \u001B[32m━━━━━━━━━━━━━━━━━━━━\u001B[0m\u001B[37m\u001B[0m \u001B[1m1s\u001B[0m 20ms/step - accuracy: 0.9789 - loss: 0.0208 - val_accuracy: 0.9732 - val_loss: 0.1287\n",
      "Epoch 6/10\n",
      "\u001B[1m28/28\u001B[0m \u001B[32m━━━━━━━━━━━━━━━━━━━━\u001B[0m\u001B[37m\u001B[0m \u001B[1m1s\u001B[0m 21ms/step - accuracy: 0.9875 - loss: 0.0178 - val_accuracy: 0.9732 - val_loss: 0.1348\n",
      "Epoch 7/10\n",
      "\u001B[1m28/28\u001B[0m \u001B[32m━━━━━━━━━━━━━━━━━━━━\u001B[0m\u001B[37m\u001B[0m \u001B[1m1s\u001B[0m 21ms/step - accuracy: 0.9865 - loss: 0.0247 - val_accuracy: 0.9732 - val_loss: 0.1546\n",
      "Epoch 8/10\n",
      "\u001B[1m28/28\u001B[0m \u001B[32m━━━━━━━━━━━━━━━━━━━━\u001B[0m\u001B[37m\u001B[0m \u001B[1m1s\u001B[0m 21ms/step - accuracy: 0.9876 - loss: 0.0183 - val_accuracy: 0.9732 - val_loss: 0.1501\n",
      "Epoch 9/10\n",
      "\u001B[1m28/28\u001B[0m \u001B[32m━━━━━━━━━━━━━━━━━━━━\u001B[0m\u001B[37m\u001B[0m \u001B[1m1s\u001B[0m 21ms/step - accuracy: 0.9933 - loss: 0.0193 - val_accuracy: 0.9732 - val_loss: 0.1682\n",
      "Epoch 10/10\n",
      "\u001B[1m28/28\u001B[0m \u001B[32m━━━━━━━━━━━━━━━━━━━━\u001B[0m\u001B[37m\u001B[0m \u001B[1m1s\u001B[0m 21ms/step - accuracy: 0.9917 - loss: 0.0237 - val_accuracy: 0.9732 - val_loss: 0.1722\n",
      "\u001B[1m7/7\u001B[0m \u001B[32m━━━━━━━━━━━━━━━━━━━━\u001B[0m\u001B[37m\u001B[0m \u001B[1m0s\u001B[0m 7ms/step \n",
      "PKM2 Model Performance:\n",
      "Accuracy: 97.3214%\n",
      "TP: 0, TN: 218, FP: 0, FN: 6\n",
      "------------------------------\n"
     ]
    }
   ],
   "source": [
    "model_pkm2 = build_cnn_model(input_shape)\n",
    "model_pkm2.fit(X_train_cnn, y_pkm2_train, epochs=10, batch_size=32, validation_data=(X_val_cnn, y_pkm2_val))\n",
    "\n",
    "print_model_performance(model_pkm2, X_val_cnn, y_pkm2_val, \"PKM2\")"
   ],
   "metadata": {
    "collapsed": false,
    "ExecuteTime": {
     "end_time": "2024-06-12T18:38:02.680514Z",
     "start_time": "2024-06-12T18:37:56.179977Z"
    }
   },
   "id": "d237e66d9e9886c",
   "execution_count": 24
  },
  {
   "cell_type": "code",
   "outputs": [
    {
     "name": "stdout",
     "output_type": "stream",
     "text": [
      "Epoch 1/10\n"
     ]
    },
    {
     "name": "stderr",
     "output_type": "stream",
     "text": [
      "/Users/pdixit/.pyenv/versions/3.10.1/lib/python3.10/site-packages/keras/src/layers/convolutional/base_conv.py:107: UserWarning: Do not pass an `input_shape`/`input_dim` argument to a layer. When using Sequential models, prefer using an `Input(shape)` object as the first layer in the model instead.\n",
      "  super().__init__(activity_regularizer=activity_regularizer, **kwargs)\n"
     ]
    },
    {
     "name": "stdout",
     "output_type": "stream",
     "text": [
      "\u001B[1m28/28\u001B[0m \u001B[32m━━━━━━━━━━━━━━━━━━━━\u001B[0m\u001B[37m\u001B[0m \u001B[1m1s\u001B[0m 25ms/step - accuracy: 0.8605 - loss: 0.2988 - val_accuracy: 0.9286 - val_loss: 0.3124\n",
      "Epoch 2/10\n",
      "\u001B[1m28/28\u001B[0m \u001B[32m━━━━━━━━━━━━━━━━━━━━\u001B[0m\u001B[37m\u001B[0m \u001B[1m1s\u001B[0m 21ms/step - accuracy: 0.9544 - loss: 0.1308 - val_accuracy: 0.9286 - val_loss: 0.2907\n",
      "Epoch 3/10\n",
      "\u001B[1m28/28\u001B[0m \u001B[32m━━━━━━━━━━━━━━━━━━━━\u001B[0m\u001B[37m\u001B[0m \u001B[1m1s\u001B[0m 21ms/step - accuracy: 0.9508 - loss: 0.0847 - val_accuracy: 0.9286 - val_loss: 0.4256\n",
      "Epoch 4/10\n",
      "\u001B[1m28/28\u001B[0m \u001B[32m━━━━━━━━━━━━━━━━━━━━\u001B[0m\u001B[37m\u001B[0m \u001B[1m1s\u001B[0m 22ms/step - accuracy: 0.9598 - loss: 0.0431 - val_accuracy: 0.9286 - val_loss: 0.5768\n",
      "Epoch 5/10\n",
      "\u001B[1m28/28\u001B[0m \u001B[32m━━━━━━━━━━━━━━━━━━━━\u001B[0m\u001B[37m\u001B[0m \u001B[1m1s\u001B[0m 23ms/step - accuracy: 0.9725 - loss: 0.0339 - val_accuracy: 0.9241 - val_loss: 0.6311\n",
      "Epoch 6/10\n",
      "\u001B[1m28/28\u001B[0m \u001B[32m━━━━━━━━━━━━━━━━━━━━\u001B[0m\u001B[37m\u001B[0m \u001B[1m1s\u001B[0m 21ms/step - accuracy: 0.9988 - loss: 0.0172 - val_accuracy: 0.9241 - val_loss: 0.7962\n",
      "Epoch 7/10\n",
      "\u001B[1m28/28\u001B[0m \u001B[32m━━━━━━━━━━━━━━━━━━━━\u001B[0m\u001B[37m\u001B[0m \u001B[1m1s\u001B[0m 22ms/step - accuracy: 1.0000 - loss: 0.0051 - val_accuracy: 0.9241 - val_loss: 0.7977\n",
      "Epoch 8/10\n",
      "\u001B[1m28/28\u001B[0m \u001B[32m━━━━━━━━━━━━━━━━━━━━\u001B[0m\u001B[37m\u001B[0m \u001B[1m1s\u001B[0m 21ms/step - accuracy: 1.0000 - loss: 0.0022 - val_accuracy: 0.9241 - val_loss: 0.8944\n",
      "Epoch 9/10\n",
      "\u001B[1m28/28\u001B[0m \u001B[32m━━━━━━━━━━━━━━━━━━━━\u001B[0m\u001B[37m\u001B[0m \u001B[1m1s\u001B[0m 22ms/step - accuracy: 1.0000 - loss: 0.0010 - val_accuracy: 0.9241 - val_loss: 0.8997\n",
      "Epoch 10/10\n",
      "\u001B[1m28/28\u001B[0m \u001B[32m━━━━━━━━━━━━━━━━━━━━\u001B[0m\u001B[37m\u001B[0m \u001B[1m1s\u001B[0m 22ms/step - accuracy: 1.0000 - loss: 7.9016e-04 - val_accuracy: 0.9241 - val_loss: 0.9998\n",
      "\u001B[1m7/7\u001B[0m \u001B[32m━━━━━━━━━━━━━━━━━━━━\u001B[0m\u001B[37m\u001B[0m \u001B[1m0s\u001B[0m 7ms/step \n",
      "ERK2 Model Performance:\n",
      "Accuracy: 92.4107%\n",
      "TP: 0, TN: 207, FP: 1, FN: 16\n",
      "------------------------------\n"
     ]
    }
   ],
   "source": [
    "model_erk2 = build_cnn_model(input_shape)\n",
    "model_erk2.fit(X_train_cnn, y_erk2_train, epochs=10, batch_size=32, validation_data=(X_val_cnn, y_erk2_val))\n",
    "\n",
    "print_model_performance(model_erk2, X_val_cnn, y_erk2_val, \"ERK2\")"
   ],
   "metadata": {
    "collapsed": false,
    "ExecuteTime": {
     "end_time": "2024-06-12T18:38:09.387517Z",
     "start_time": "2024-06-12T18:38:02.679477Z"
    }
   },
   "id": "3f454b8d1bf78b1b",
   "execution_count": 25
  },
  {
   "cell_type": "code",
   "outputs": [
    {
     "data": {
      "text/plain": "                                       SMILES  PKM2_inhibition  \\\n0  C[C@@H](Sc1nc(=O)cc(N)[nH]1)C(=O)NC1CCCCC1              NaN   \n1          O=C(CCN1C(=O)COc2ccccc21)NCc1cccs1              NaN   \n2      Cn1nnnc1SCC(=O)N1CC[NH+](Cc2ccccc2)CC1              NaN   \n3  CCOC(=O)CCP(=O)([O-])[C@@H](O)c1ccc(OC)cc1              NaN   \n4               C=CCNC(=O)c1cc(-c2ccccc2O)on1              NaN   \n\n   ERK2_inhibition  \n0              NaN  \n1              NaN  \n2              NaN  \n3              NaN  \n4              NaN  ",
      "text/html": "<div>\n<style scoped>\n    .dataframe tbody tr th:only-of-type {\n        vertical-align: middle;\n    }\n\n    .dataframe tbody tr th {\n        vertical-align: top;\n    }\n\n    .dataframe thead th {\n        text-align: right;\n    }\n</style>\n<table border=\"1\" class=\"dataframe\">\n  <thead>\n    <tr style=\"text-align: right;\">\n      <th></th>\n      <th>SMILES</th>\n      <th>PKM2_inhibition</th>\n      <th>ERK2_inhibition</th>\n    </tr>\n  </thead>\n  <tbody>\n    <tr>\n      <th>0</th>\n      <td>C[C@@H](Sc1nc(=O)cc(N)[nH]1)C(=O)NC1CCCCC1</td>\n      <td>NaN</td>\n      <td>NaN</td>\n    </tr>\n    <tr>\n      <th>1</th>\n      <td>O=C(CCN1C(=O)COc2ccccc21)NCc1cccs1</td>\n      <td>NaN</td>\n      <td>NaN</td>\n    </tr>\n    <tr>\n      <th>2</th>\n      <td>Cn1nnnc1SCC(=O)N1CC[NH+](Cc2ccccc2)CC1</td>\n      <td>NaN</td>\n      <td>NaN</td>\n    </tr>\n    <tr>\n      <th>3</th>\n      <td>CCOC(=O)CCP(=O)([O-])[C@@H](O)c1ccc(OC)cc1</td>\n      <td>NaN</td>\n      <td>NaN</td>\n    </tr>\n    <tr>\n      <th>4</th>\n      <td>C=CCNC(=O)c1cc(-c2ccccc2O)on1</td>\n      <td>NaN</td>\n      <td>NaN</td>\n    </tr>\n  </tbody>\n</table>\n</div>"
     },
     "execution_count": 26,
     "metadata": {},
     "output_type": "execute_result"
    }
   ],
   "source": [
    "test_data = pd.read_csv('data/untested_molecules-3.csv')\n",
    "\n",
    "test_data.head()"
   ],
   "metadata": {
    "collapsed": false,
    "ExecuteTime": {
     "end_time": "2024-06-12T18:38:09.399421Z",
     "start_time": "2024-06-12T18:38:09.387357Z"
    }
   },
   "id": "1dbca9dac3062a0b",
   "execution_count": 26
  },
  {
   "cell_type": "code",
   "outputs": [],
   "source": [
    "X_test = np.array([smiles_to_fingerprint(smiles) for smiles in test_data['SMILES']])\n",
    "X_test_cnn = X_test.reshape((X_test.shape[0], X_test.shape[1], 1))"
   ],
   "metadata": {
    "collapsed": false,
    "ExecuteTime": {
     "end_time": "2024-06-12T18:38:15.238558Z",
     "start_time": "2024-06-12T18:38:09.466903Z"
    }
   },
   "id": "2a9bdcc11ef939bb",
   "execution_count": 27
  },
  {
   "cell_type": "code",
   "outputs": [
    {
     "name": "stdout",
     "output_type": "stream",
     "text": [
      "\u001B[1m140/140\u001B[0m \u001B[32m━━━━━━━━━━━━━━━━━━━━\u001B[0m\u001B[37m\u001B[0m \u001B[1m1s\u001B[0m 7ms/step\n",
      "\u001B[1m140/140\u001B[0m \u001B[32m━━━━━━━━━━━━━━━━━━━━\u001B[0m\u001B[37m\u001B[0m \u001B[1m1s\u001B[0m 7ms/step\n"
     ]
    }
   ],
   "source": [
    "threshold = 0.5\n",
    "test_data['PKM2_inhibition'] = (model_pkm2.predict(X_test_cnn) > threshold).astype(int)\n",
    "test_data['ERK2_inhibition'] = (model_erk2.predict(X_test_cnn) > threshold).astype(int)"
   ],
   "metadata": {
    "collapsed": false,
    "ExecuteTime": {
     "end_time": "2024-06-12T18:38:17.198819Z",
     "start_time": "2024-06-12T18:38:15.239261Z"
    }
   },
   "id": "64955dd3c8740e92",
   "execution_count": 28
  },
  {
   "cell_type": "code",
   "outputs": [],
   "source": [
    "test_data.to_csv('pred.csv', index=False)"
   ],
   "metadata": {
    "collapsed": false,
    "ExecuteTime": {
     "end_time": "2024-06-12T18:38:17.206912Z",
     "start_time": "2024-06-12T18:38:17.199303Z"
    }
   },
   "id": "cd656b579822fc55",
   "execution_count": 29
  }
 ],
 "metadata": {
  "kernelspec": {
   "display_name": "Python 3",
   "language": "python",
   "name": "python3"
  },
  "language_info": {
   "codemirror_mode": {
    "name": "ipython",
    "version": 2
   },
   "file_extension": ".py",
   "mimetype": "text/x-python",
   "name": "python",
   "nbconvert_exporter": "python",
   "pygments_lexer": "ipython2",
   "version": "2.7.6"
  }
 },
 "nbformat": 4,
 "nbformat_minor": 5
}
