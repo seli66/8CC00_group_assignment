{
 "cells": [
  {
   "cell_type": "code",
   "execution_count": 3,
   "metadata": {},
   "outputs": [],
   "source": [
    "# Import libraries\n",
    "import pandas as pd\n",
    "import numpy as np\n",
    "from rdkit import Chem\n",
    "from rdkit.Chem import Descriptors\n",
    "from rdkit.Chem import Descriptors\n",
    "from rdkit.Chem import rdMolDescriptors\n",
    "from rdkit.ML.Descriptors import MoleculeDescriptors\n",
    "\n",
    "from sklearn.decomposition import PCA\n",
    "from sklearn.preprocessing import StandardScaler\n",
    "\n",
    "\n",
    "from sklearn.model_selection import train_test_split\n",
    "from sklearn.linear_model import LogisticRegression\n",
    "from sklearn.preprocessing import StandardScaler\n",
    "from sklearn.preprocessing import MinMaxScaler\n",
    "from sklearn.metrics import confusion_matrix, classification_report, accuracy_score"
   ]
  },
  {
   "cell_type": "code",
   "execution_count": 4,
   "metadata": {},
   "outputs": [],
   "source": [
    "# import data set\n",
    "\n",
    "data = pd.read_csv('tested_molecules.csv')"
   ]
  },
  {
   "cell_type": "code",
   "execution_count": 5,
   "metadata": {},
   "outputs": [],
   "source": [
    "# Generate descriptors for each molecule\n",
    "descriptor_list = [d[0] for d in Descriptors._descList]\n",
    "calculator = MoleculeDescriptors.MolecularDescriptorCalculator(descriptor_list)\n",
    "\n",
    "\n",
    "# function to get the descriptor for each molecule in SMILES\n",
    "def compute_descriptors(smiles):\n",
    "    mol = Chem.MolFromSmiles(smiles)\n",
    "    if mol is not None:\n",
    "        return calculator.CalcDescriptors(mol)\n",
    "    return [None] * len(descriptor_list)"
   ]
  },
  {
   "cell_type": "code",
   "execution_count": 6,
   "metadata": {},
   "outputs": [],
   "source": [
    "# SMILES contain the molecules, so apply the calculate_descriptors on SMILES\n",
    "data['Descriptors'] = data['SMILES'].apply(compute_descriptors)\n",
    "descriptors_df = pd.DataFrame(data['Descriptors'].tolist(), columns=descriptor_list)\n",
    "data = pd.concat([data, descriptors_df], axis=1)\n",
    "\n",
    "# Drop rows with NaN values\n",
    "data.dropna(inplace=True)"
   ]
  },
  {
   "cell_type": "code",
   "execution_count": 7,
   "metadata": {},
   "outputs": [],
   "source": [
    "# standerdize data with standard scaler\n",
    "#scaler = StandardScaler()\n",
    "df_scaled = StandardScaler().fit_transform(descriptors_df)"
   ]
  },
  {
   "cell_type": "code",
   "execution_count": 8,
   "metadata": {},
   "outputs": [
    {
     "name": "stdout",
     "output_type": "stream",
     "text": [
      "Number of components to explain 80% variance: 35\n"
     ]
    }
   ],
   "source": [
    "# Apply PCA \n",
    "pca = PCA()\n",
    "principal_components = pca.fit_transform(df_scaled)\n",
    "\n",
    "# compute cumalative variance\n",
    "cumulative_variance = pca.explained_variance_ratio_.cumsum()\n",
    "\n",
    "# get amount of component to cover 80% of variance\n",
    "n_components_80_variance = (cumulative_variance >= 0.8).argmax() + 1  # index at 0 so add 1\n",
    "print(f\"Number of components to explain 80% variance: {n_components_80_variance}\")"
   ]
  },
  {
   "cell_type": "code",
   "execution_count": 9,
   "metadata": {},
   "outputs": [],
   "source": [
    "#get loadings\n",
    "loadings = pca.components_"
   ]
  },
  {
   "cell_type": "code",
   "execution_count": 10,
   "metadata": {},
   "outputs": [
    {
     "name": "stdout",
     "output_type": "stream",
     "text": [
      "       MaxEStateIndex  MinEStateIndex  MaxAbsEStateIndex  MinAbsEStateIndex  \\\n",
      "PC1          0.074857   -4.538539e-02       7.485724e-02      -5.772916e-02   \n",
      "PC2          0.099438   -9.163471e-02       9.943846e-02      -8.823757e-02   \n",
      "PC3         -0.098613    1.314266e-01      -9.861322e-02       7.659648e-02   \n",
      "PC4          0.033748   -1.116525e-01       3.374828e-02      -1.980827e-02   \n",
      "PC5          0.113003   -1.171973e-01       1.130027e-01      -5.123494e-02   \n",
      "...               ...             ...                ...                ...   \n",
      "PC204        0.000000   -1.062465e-19      -1.301744e-21      -2.716215e-20   \n",
      "PC205        0.000000    1.026257e-18       3.169445e-21       1.564543e-19   \n",
      "PC206       -0.000000    7.399298e-33       6.168914e-34       6.872828e-34   \n",
      "PC207       -0.000000    1.121632e-34       5.756544e-34      -4.448630e-35   \n",
      "PC208        0.707107    2.969847e-15      -7.071068e-01      -4.996004e-16   \n",
      "\n",
      "                qed         MolWt  HeavyAtomMolWt    ExactMolWt  \\\n",
      "PC1   -7.899850e-02  1.741550e-01    1.715006e-01  1.742655e-01   \n",
      "PC2    1.033183e-01 -3.969924e-02   -4.763090e-02 -3.959259e-02   \n",
      "PC3    2.184487e-02 -2.869734e-02   -3.989977e-02 -2.862926e-02   \n",
      "PC4   -2.675402e-02  4.898758e-02    5.543769e-02  4.858335e-02   \n",
      "PC5    6.253454e-02  2.387657e-03    9.282340e-03  2.305457e-03   \n",
      "...             ...           ...             ...           ...   \n",
      "PC204 -3.802384e-19 -3.694182e-18    1.120510e-17 -1.606121e-17   \n",
      "PC205 -1.132848e-19 -4.157458e-17   -1.023034e-17  4.774584e-17   \n",
      "PC206 -3.102579e-33 -8.436434e-32    3.236379e-31 -1.833902e-31   \n",
      "PC207 -7.413084e-34  1.112769e-28    4.596342e-31 -1.117787e-28   \n",
      "PC208  5.551115e-17  7.012169e-13   -1.332268e-14 -6.913359e-13   \n",
      "\n",
      "       NumValenceElectrons  NumRadicalElectrons  ...    fr_sulfide  \\\n",
      "PC1           1.792458e-01         0.000000e+00  ... -3.940244e-03   \n",
      "PC2          -1.345718e-02        -2.168404e-19  ... -6.887558e-02   \n",
      "PC3          -1.162328e-02        -6.938894e-18  ...  2.051800e-04   \n",
      "PC4          -1.382284e-03         1.110223e-16  ...  1.404381e-01   \n",
      "PC5          -1.596614e-02        -1.665335e-16  ... -4.764818e-02   \n",
      "...                    ...                  ...  ...           ...   \n",
      "PC204         1.076890e-18         3.719355e-17  ... -1.120009e-19   \n",
      "PC205        -4.150509e-17        -5.286530e-17  ... -8.564034e-19   \n",
      "PC206        -4.865106e-31         1.573464e-18  ... -1.218151e-32   \n",
      "PC207         1.360152e-31         5.430975e-19  ... -3.262044e-33   \n",
      "PC208        -3.996803e-15         1.110223e-16  ... -1.756408e-17   \n",
      "\n",
      "       fr_sulfonamd    fr_sulfone  fr_term_acetylene  fr_tetrazole  \\\n",
      "PC1    4.504132e-02  1.024430e-02       0.000000e+00  8.959956e-03   \n",
      "PC2    2.693817e-02  1.799786e-02      -0.000000e+00 -4.566027e-02   \n",
      "PC3   -5.327585e-02 -2.350181e-02      -0.000000e+00  5.370702e-02   \n",
      "PC4    1.190223e-01  3.445307e-02      -0.000000e+00  6.123237e-03   \n",
      "PC5    1.014839e-01  3.320021e-02       0.000000e+00 -7.896598e-02   \n",
      "...             ...           ...                ...           ...   \n",
      "PC204 -1.071406e-18 -1.701284e-19      -1.293410e-14  6.824207e-20   \n",
      "PC205 -7.086172e-19  1.624727e-19      -2.264855e-14  1.510744e-19   \n",
      "PC206 -2.046301e-33  2.780561e-33      -9.999998e-01 -4.694454e-34   \n",
      "PC207 -2.804635e-33 -1.006975e-33       6.414570e-04 -1.053243e-34   \n",
      "PC208 -6.722053e-18  2.144687e-17       0.000000e+00 -3.838076e-17   \n",
      "\n",
      "        fr_thiazole   fr_thiocyan  fr_thiophene  fr_unbrch_alkane  \\\n",
      "PC1    2.786285e-04  0.000000e+00  3.308293e-03      9.822920e-03   \n",
      "PC2   -4.563143e-02 -0.000000e+00 -3.176518e-02      1.828121e-02   \n",
      "PC3   -7.404354e-04 -0.000000e+00 -3.868845e-03     -1.748776e-03   \n",
      "PC4    6.125224e-02 -0.000000e+00  1.045399e-01      6.387485e-03   \n",
      "PC5    1.569688e-02  0.000000e+00  3.527677e-03     -7.146835e-02   \n",
      "...             ...           ...           ...               ...   \n",
      "PC204 -2.023177e-19  0.000000e+00 -4.623036e-19      6.478250e-21   \n",
      "PC205  1.740587e-19 -1.110223e-16  9.421934e-20     -3.200949e-20   \n",
      "PC206  7.109390e-35 -6.414570e-04 -8.064832e-34      1.444447e-34   \n",
      "PC207  2.488757e-34 -9.999998e-01  3.370377e-34      3.129636e-34   \n",
      "PC208  2.095221e-17  0.000000e+00  7.697835e-18     -3.230922e-17   \n",
      "\n",
      "            fr_urea  \n",
      "PC1    1.215668e-02  \n",
      "PC2    5.834210e-02  \n",
      "PC3   -3.435552e-02  \n",
      "PC4   -2.971764e-02  \n",
      "PC5    8.877166e-03  \n",
      "...             ...  \n",
      "PC204  1.222612e-18  \n",
      "PC205  4.724115e-18  \n",
      "PC206  5.845197e-32  \n",
      "PC207  6.223161e-33  \n",
      "PC208 -4.553649e-18  \n",
      "\n",
      "[208 rows x 208 columns]\n"
     ]
    }
   ],
   "source": [
    "# make loading matrix\n",
    "features = descriptors_df.columns\n",
    "loading_matrix = pd.DataFrame(loadings, columns=features, index=[f'PC{i+1}' for i in range(len(loadings))])\n",
    "print(loading_matrix)"
   ]
  },
  {
   "cell_type": "code",
   "execution_count": 11,
   "metadata": {},
   "outputs": [
    {
     "name": "stdout",
     "output_type": "stream",
     "text": [
      "Sum of Absolute Loadings (Feature Importance):\n",
      " SMR_VSA10            10.818865\n",
      "SlogP_VSA8           10.726949\n",
      "SMR_VSA5             10.614510\n",
      "SlogP_VSA1           10.517149\n",
      "SlogP_VSA5           10.429701\n",
      "                       ...    \n",
      "fr_phos_acid          1.431506\n",
      "fr_isothiocyan        1.411940\n",
      "fr_term_acetylene     1.000641\n",
      "fr_thiocyan           1.000641\n",
      "fr_isocyan            1.000011\n",
      "Length: 208, dtype: float64\n"
     ]
    }
   ],
   "source": [
    "# get absolute loading and print it\n",
    "absolute_loadings = np.abs(loading_matrix).sum(axis=0).sort_values(ascending=False)\n",
    "print(\"Sum of Absolute Loadings (Feature Importance):\\n\", absolute_loadings)"
   ]
  },
  {
   "cell_type": "code",
   "execution_count": 14,
   "metadata": {},
   "outputs": [
    {
     "name": "stdout",
     "output_type": "stream",
     "text": [
      "There are 25 significant features based on threshold: ['SMR_VSA10', 'SlogP_VSA8', 'SMR_VSA5', 'SlogP_VSA1', 'SlogP_VSA5', 'PEOE_VSA12', 'EState_VSA1', 'SMR_VSA6', 'EState_VSA7', 'EState_VSA3', 'PEOE_VSA9', 'SMR_VSA7', 'SlogP_VSA3', 'SMR_VSA9', 'PEOE_VSA7', 'SlogP_VSA11', 'PEOE_VSA6', 'EState_VSA8', 'EState_VSA6', 'PEOE_VSA3', 'SMR_VSA4', 'SlogP_VSA2', 'EState_VSA2', 'SlogP_VSA6', 'PEOE_VSA11']\n"
     ]
    }
   ],
   "source": [
    "# threshold in %\n",
    "threshold = 10\n",
    "# get significant features\n",
    "significant_features = absolute_loadings[absolute_loadings > threshold].index.tolist()\n",
    "print(f\"There are {len(significant_features)} significant features based on threshold: {significant_features}\" )"
   ]
  }
 ],
 "metadata": {
  "kernelspec": {
   "display_name": ".venv",
   "language": "python",
   "name": "python3"
  },
  "language_info": {
   "codemirror_mode": {
    "name": "ipython",
    "version": 3
   },
   "file_extension": ".py",
   "mimetype": "text/x-python",
   "name": "python",
   "nbconvert_exporter": "python",
   "pygments_lexer": "ipython3",
   "version": "3.8.10"
  }
 },
 "nbformat": 4,
 "nbformat_minor": 2
}
