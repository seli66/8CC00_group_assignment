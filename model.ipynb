{
 "cells": [
  {
   "cell_type": "code",
   "execution_count": 24,
   "metadata": {},
   "outputs": [],
   "source": [
    "import pandas as pd\n",
    "import numpy as np\n",
    "import matplotlib.pyplot as plt\n",
    "from rdkit import Chem\n",
    "from rdkit.Chem import Descriptors\n",
    "import tensorflow as tf\n",
    "from tensorflow.keras.models import Sequential\n",
    "from tensorflow.keras.layers import Dense, Dropout\n",
    "from sklearn.model_selection import train_test_split\n",
    "from sklearn.preprocessing import StandardScaler\n",
    "from sklearn.metrics import accuracy_score, confusion_matrix, precision_score, recall_score, precision_recall_curve, f1_score"
   ]
  },
  {
   "cell_type": "code",
   "execution_count": 25,
   "metadata": {},
   "outputs": [],
   "source": [
    "# Function to calculate molecular descriptors\n",
    "def calculate_descriptors(smiles):\n",
    "    mol = Chem.MolFromSmiles(smiles)\n",
    "    if mol is None:\n",
    "        return {}\n",
    "    descriptors = {desc_name: desc_func(mol) for desc_name, desc_func in Descriptors._descList}\n",
    "    return descriptors"
   ]
  },
  {
   "cell_type": "code",
   "execution_count": 26,
   "metadata": {},
   "outputs": [],
   "source": [
    "# Load data\n",
    "data = pd.read_csv(r'C:\\Users\\20212049\\Documents\\Jaar 3\\Kwart 4\\Advanced Programming\\Group Assignment\\tested_molecules.csv')\n",
    "data['descriptors'] = data['SMILES'].apply(calculate_descriptors)\n",
    "descriptors_df = pd.DataFrame(data['descriptors'].tolist())\n",
    "descriptors_df['PKM2_inhibition'] = data['PKM2_inhibition']\n",
    "descriptors_df['ERK2_inhibition'] = data['ERK2_inhibition']\n",
    "\n",
    "# Drop rows with NaN values\n",
    "descriptors_df.dropna(inplace=True)"
   ]
  },
  {
   "cell_type": "code",
   "execution_count": 27,
   "metadata": {},
   "outputs": [],
   "source": [
    "# Split data for PKM2 and ERK2 inhibition modeling\n",
    "def prepare_data(target):\n",
    "    X = descriptors_df.drop(['PKM2_inhibition', 'ERK2_inhibition'], axis=1)\n",
    "    y = descriptors_df[target].values\n",
    "    X_train, X_test, y_train, y_test = train_test_split(X, y, test_size=0.2, random_state=42)\n",
    "    scaler = StandardScaler()\n",
    "    X_train_scaled = scaler.fit_transform(X_train)\n",
    "    X_test_scaled = scaler.transform(X_test)\n",
    "    return X_train_scaled, X_test_scaled, y_train, y_test, X.columns"
   ]
  },
  {
   "cell_type": "code",
   "execution_count": 28,
   "metadata": {},
   "outputs": [],
   "source": [
    "# Define the model structure\n",
    "def build_model(input_dim):\n",
    "    model = Sequential([\n",
    "        Dense(128, activation='relu', input_dim=input_dim),\n",
    "        Dropout(0.5),\n",
    "        Dense(64, activation='relu'),\n",
    "        Dropout(0.3),\n",
    "        Dense(32, activation='relu'),\n",
    "        Dropout(0.2),\n",
    "        Dense(1, activation='sigmoid')\n",
    "    ])\n",
    "    model.compile(optimizer='adam', loss='binary_crossentropy', metrics=['accuracy'])\n",
    "    return model"
   ]
  },
  {
   "cell_type": "code",
   "execution_count": 29,
   "metadata": {},
   "outputs": [],
   "source": [
    "# Function to predict classes based on the modified threshold\n",
    "def predict_classes(model, X, threshold=0.5):\n",
    "    proba = model.predict(X)\n",
    "    return (proba > threshold).astype(int)"
   ]
  },
  {
   "cell_type": "code",
   "execution_count": 30,
   "metadata": {},
   "outputs": [],
   "source": [
    "# Function to calculate optimal threshold based on F1 score\n",
    "def calculate_optimal_threshold(y_true, probas_pred):\n",
    "    precision, recall, thresholds = precision_recall_curve(y_true, probas_pred)\n",
    "    f1_scores = 2 * (precision * recall) / (precision + recall)\n",
    "    f1_scores = np.nan_to_num(f1_scores)\n",
    "    optimal_idx = np.argmax(f1_scores)\n",
    "    optimal_threshold = thresholds[optimal_idx]\n",
    "    return optimal_threshold, f1_scores[optimal_idx]"
   ]
  },
  {
   "cell_type": "code",
   "execution_count": 31,
   "metadata": {},
   "outputs": [],
   "source": [
    "# Train and evaluate the model\n",
    "def train_and_evaluate(target):\n",
    "    X_train_scaled, X_test_scaled, y_train, y_test, feature_names = prepare_data(target)\n",
    "    model = build_model(X_train_scaled.shape[1])\n",
    "    model.fit(X_train_scaled, y_train, epochs=5, batch_size=10, verbose=1, validation_split=0.1)\n",
    "    proba = model.predict(X_test_scaled).ravel()\n",
    "    optimal_threshold, max_f1_score = calculate_optimal_threshold(y_test, proba)\n",
    "    y_pred = predict_classes(model, X_test_scaled, threshold=optimal_threshold)\n",
    "    accuracy = accuracy_score(y_test, y_pred)\n",
    "    precision = precision_score(y_test, y_pred)\n",
    "    recall = recall_score(y_test, y_pred)\n",
    "    print(f\"Results for {target}:\")\n",
    "    print(f\"Accuracy: {accuracy:.2f}\")\n",
    "    print(f\"Precision: {precision:.2f}\")\n",
    "    print(f\"Recall: {recall:.2f}\")\n",
    "    print(f\"Maximum F1 Score: {max_f1_score:.3f}\")\n",
    "\n",
    "    # Analyze feature importances\n",
    "    weights = model.layers[0].get_weights()[0]  # Get weights of the first layer\n",
    "    mean_weights = np.mean(np.abs(weights), axis=1)  # Average the weights across nodes\n",
    "    feature_importance = pd.Series(mean_weights, index=feature_names)\n",
    "    print(\"Feature Importances for\", target)\n",
    "    print(feature_importance.sort_values(ascending=False))\n",
    "\n",
    "    cm = confusion_matrix(y_test, y_pred)\n",
    "    print(cm)"
   ]
  },
  {
   "cell_type": "code",
   "execution_count": 32,
   "metadata": {},
   "outputs": [
    {
     "name": "stdout",
     "output_type": "stream",
     "text": [
      "Epoch 1/5\n",
      "81/81 [==============================] - 2s 8ms/step - loss: 0.1991 - accuracy: 0.9352 - val_loss: 0.1401 - val_accuracy: 0.9667\n",
      "Epoch 2/5\n",
      "81/81 [==============================] - 0s 5ms/step - loss: 0.1106 - accuracy: 0.9763 - val_loss: 0.1209 - val_accuracy: 0.9667\n",
      "Epoch 3/5\n",
      "81/81 [==============================] - 0s 4ms/step - loss: 0.1139 - accuracy: 0.9763 - val_loss: 0.1032 - val_accuracy: 0.9667\n",
      "Epoch 4/5\n",
      "81/81 [==============================] - 0s 5ms/step - loss: 0.0813 - accuracy: 0.9776 - val_loss: 0.1086 - val_accuracy: 0.9667\n",
      "Epoch 5/5\n",
      "81/81 [==============================] - 1s 6ms/step - loss: 0.0788 - accuracy: 0.9751 - val_loss: 0.1020 - val_accuracy: 0.9667\n",
      "7/7 [==============================] - 0s 4ms/step\n",
      "7/7 [==============================] - 0s 4ms/step\n"
     ]
    },
    {
     "name": "stderr",
     "output_type": "stream",
     "text": [
      "C:\\Users\\20212049\\AppData\\Local\\Temp\\ipykernel_22396\\1901147987.py:4: RuntimeWarning: invalid value encountered in divide\n",
      "  f1_scores = 2 * (precision * recall) / (precision + recall)\n"
     ]
    },
    {
     "name": "stdout",
     "output_type": "stream",
     "text": [
      "Results for PKM2_inhibition:\n",
      "Accuracy: 0.95\n",
      "Precision: 0.25\n",
      "Recall: 0.50\n",
      "Maximum F1 Score: 0.421\n",
      "Feature Importances for PKM2_inhibition\n",
      "FractionCSP3    0.078709\n",
      "PEOE_VSA6       0.075639\n",
      "PEOE_VSA2       0.075389\n",
      "MolLogP         0.075292\n",
      "fr_C_O          0.075068\n",
      "                  ...   \n",
      "fr_thiophene    0.060977\n",
      "SlogP_VSA12     0.060848\n",
      "SlogP_VSA10     0.060739\n",
      "fr_hdrzine      0.060166\n",
      "fr_lactone      0.060045\n",
      "Length: 208, dtype: float32\n",
      "[[209   9]\n",
      " [  3   3]]\n"
     ]
    }
   ],
   "source": [
    "train_and_evaluate('PKM2_inhibition')"
   ]
  },
  {
   "cell_type": "code",
   "execution_count": 37,
   "metadata": {},
   "outputs": [
    {
     "name": "stdout",
     "output_type": "stream",
     "text": [
      "Epoch 1/5\n",
      "81/81 [==============================] - 2s 5ms/step - loss: 0.4372 - accuracy: 0.8092 - val_loss: 0.1331 - val_accuracy: 0.9778\n",
      "Epoch 2/5\n",
      "81/81 [==============================] - 0s 2ms/step - loss: 0.2074 - accuracy: 0.9589 - val_loss: 0.1400 - val_accuracy: 0.9778\n",
      "Epoch 3/5\n",
      "81/81 [==============================] - 0s 2ms/step - loss: 0.1961 - accuracy: 0.9589 - val_loss: 0.1384 - val_accuracy: 0.9778\n",
      "Epoch 4/5\n",
      "81/81 [==============================] - 0s 2ms/step - loss: 0.1552 - accuracy: 0.9589 - val_loss: 0.1305 - val_accuracy: 0.9778\n",
      "Epoch 5/5\n",
      "81/81 [==============================] - 0s 2ms/step - loss: 0.1503 - accuracy: 0.9576 - val_loss: 0.1240 - val_accuracy: 0.9778\n",
      "7/7 [==============================] - 0s 2ms/step\n",
      "7/7 [==============================] - 0s 1ms/step\n",
      "Results for ERK2_inhibition:\n",
      "Accuracy: 0.86\n",
      "Precision: 0.17\n",
      "Recall: 0.25\n",
      "Maximum F1 Score: 0.244\n",
      "Feature Importances for ERK2_inhibition\n",
      "fr_amidine        0.077608\n",
      "BalabanJ          0.076843\n",
      "BCUT2D_MWHI       0.076739\n",
      "VSA_EState8       0.075907\n",
      "EState_VSA10      0.075128\n",
      "                    ...   \n",
      "fr_ketone         0.059714\n",
      "BertzCT           0.058721\n",
      "EState_VSA2       0.058347\n",
      "fr_aryl_methyl    0.057369\n",
      "Chi2v             0.057185\n",
      "Length: 208, dtype: float32\n",
      "[[188  20]\n",
      " [ 12   4]]\n"
     ]
    },
    {
     "name": "stderr",
     "output_type": "stream",
     "text": [
      "C:\\Users\\20212049\\AppData\\Local\\Temp\\ipykernel_22396\\1901147987.py:4: RuntimeWarning: invalid value encountered in divide\n",
      "  f1_scores = 2 * (precision * recall) / (precision + recall)\n"
     ]
    }
   ],
   "source": [
    "train_and_evaluate('ERK2_inhibition')"
   ]
  }
 ],
 "metadata": {
  "kernelspec": {
   "display_name": ".venv",
   "language": "python",
   "name": "python3"
  },
  "language_info": {
   "codemirror_mode": {
    "name": "ipython",
    "version": 3
   },
   "file_extension": ".py",
   "mimetype": "text/x-python",
   "name": "python",
   "nbconvert_exporter": "python",
   "pygments_lexer": "ipython3",
   "version": "3.8.10"
  }
 },
 "nbformat": 4,
 "nbformat_minor": 2
}
