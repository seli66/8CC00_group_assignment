{
 "cells": [
  {
   "cell_type": "code",
   "execution_count": 1,
   "id": "initial_id",
   "metadata": {
    "collapsed": true,
    "ExecuteTime": {
     "end_time": "2024-06-13T19:43:35.319681Z",
     "start_time": "2024-06-13T19:43:34.173999Z"
    }
   },
   "outputs": [],
   "source": [
    "import pandas as pd\n",
    "import numpy as np\n",
    "from rdkit import Chem\n",
    "from rdkit.Chem import AllChem\n",
    "from sklearn.pipeline import Pipeline\n",
    "from sklearn.preprocessing import StandardScaler\n",
    "from sklearn.decomposition import PCA\n",
    "from sklearn.neural_network import MLPClassifier\n",
    "from sklearn.metrics import balanced_accuracy_score, precision_score, recall_score, confusion_matrix, f1_score\n",
    "from sklearn.model_selection import train_test_split, GridSearchCV"
   ]
  },
  {
   "cell_type": "code",
   "outputs": [],
   "source": [
    "def smiles_to_fingerprint(smiles, radius=2, n_bits=2048):\n",
    "    mol = Chem.MolFromSmiles(smiles)\n",
    "    if mol:\n",
    "        fp = AllChem.GetMorganFingerprintAsBitVect(mol, radius, nBits=n_bits)\n",
    "        return np.array(fp)\n",
    "    else:\n",
    "        return np.zeros(n_bits)\n",
    "    \n",
    "def evaluate_model(model, X_val, y_val, label):\n",
    "    y_pred = model.predict(X_val)\n",
    "    accuracy = balanced_accuracy_score(y_val, y_pred)\n",
    "    precision = precision_score(y_val, y_pred)\n",
    "    recall = recall_score(y_val, y_pred)\n",
    "    f1 = f1_score(y_val, y_pred)\n",
    "    cm = confusion_matrix(y_val, y_pred)\n",
    "    \n",
    "    print(f\"{label} Model Performance:\")\n",
    "    print(f\"Balanced Accuracy: {accuracy:.4f}, Precision: {precision:.4f}, Recall: {recall:.4f}, F1-score: {f1:.4f}\")\n",
    "    print(f\"Confusion Matrix:\\n{cm}\")\n",
    "    print(\"-\" * 50)"
   ],
   "metadata": {
    "collapsed": false,
    "ExecuteTime": {
     "end_time": "2024-06-13T19:43:58.210273Z",
     "start_time": "2024-06-13T19:43:58.207850Z"
    }
   },
   "id": "2d63fec8a47f65e5",
   "execution_count": 2
  },
  {
   "cell_type": "code",
   "outputs": [],
   "source": [
    "train_data = pd.read_csv('data/tested_molecules.csv')\n",
    "\n",
    "X = np.array([smiles_to_fingerprint(smiles) for smiles in train_data['SMILES']])\n",
    "y_pkm2 = train_data['PKM2_inhibition'].values\n",
    "y_erk2 = train_data['ERK2_inhibition'].values\n",
    "\n",
    "X_train, X_val, y_train_pkm2, y_val_pkm2 = train_test_split(X, y_pkm2, test_size=0.2, random_state=42)\n",
    "_, _, y_train_erk2, y_val_erk2 = train_test_split(X, y_erk2, test_size=0.2, random_state=42)\n",
    "\n",
    "pipeline = Pipeline(steps=[\n",
    "    ('scaling', StandardScaler()),\n",
    "    ('pca', PCA()),\n",
    "    ('mlp', MLPClassifier())\n",
    "])\n",
    "\n",
    "parameters = {\n",
    "    'pca__n_components': [5, 10, 20, 30, 50, 100], \n",
    "    'mlp__learning_rate_init': [1e-1, 1e-2, 1e-3, 1e-4, 1e-5],\n",
    "    'mlp__max_iter': [100, 250, 500, 1000],\n",
    "    'mlp__hidden_layer_sizes': [(100,), (1000,), (100, 100), (1000, 1000)],\n",
    "    'mlp__alpha': [1e-1, 1e-2, 1e-3, 1e-4, 1e-5],\n",
    "    'mlp__learning_rate': ['constant', 'invscaling', 'adaptive'],\n",
    "    'mlp__momentum': [0.1, 0.5, 0.9],\n",
    "    'mlp__early_stopping': [True, False],\n",
    "    'mlp__beta_1': [1-1e-1, 1-1e-2, 1-1e-3, 1-1e-4, 1-1e-5],\n",
    "    'mlp__beta_2': [1-1e-1, 1-1e-2, 1-1e-3, 1-1e-4, 1-1e-5],\n",
    "    'mlp__validation_fraction': [0.1, 0.2, 0.5],\n",
    "}"
   ],
   "metadata": {
    "collapsed": false,
    "ExecuteTime": {
     "end_time": "2024-06-13T19:44:05.305Z",
     "start_time": "2024-06-13T19:44:03.768645Z"
    }
   },
   "id": "c79102e52197fa4b",
   "execution_count": 3
  },
  {
   "cell_type": "code",
   "outputs": [],
   "source": [
    "clf_pkm2 = GridSearchCV(pipeline, parameters, cv=5, scoring='balanced_accuracy')\n",
    "clf_pkm2.fit(X_train, y_train_pkm2)\n",
    "\n",
    "evaluate_model(clf_pkm2, X_val, y_val_pkm2, \"MLP Pipeline for PKM2\")"
   ],
   "metadata": {
    "collapsed": false,
    "is_executing": true,
    "ExecuteTime": {
     "start_time": "2024-06-14T16:36:26.955912Z"
    }
   },
   "id": "a278cd2736e6fe4e"
  },
  {
   "cell_type": "code",
   "outputs": [],
   "source": [
    "clf_erk2 = GridSearchCV(pipeline, parameters, cv=5, scoring='balanced_accuracy')\n",
    "clf_erk2.fit(X_train, y_train_erk2)\n",
    "\n",
    "evaluate_model(clf_erk2, X_val, y_val_erk2, \"MLP Pipeline for ERK2\")"
   ],
   "metadata": {
    "collapsed": false
   },
   "id": "eecf197205641b16"
  },
  {
   "cell_type": "code",
   "outputs": [],
   "source": [
    "test_data = pd.read_csv('data/untested_molecules.csv')\n",
    "X_test = np.array([smiles_to_fingerprint(smiles) for smiles in test_data['SMILES']])\n",
    "\n",
    "test_data['PKM2_inhibition'] = clf_pkm2.predict(X_test)\n",
    "test_data['ERK2_inhibition'] = clf_erk2.predict(X_test)"
   ],
   "metadata": {
    "collapsed": false,
    "is_executing": true
   },
   "id": "4dc9f2811e47c7be"
  },
  {
   "cell_type": "code",
   "outputs": [],
   "source": [
    "test_data[test_data['ERK2_inhibition'] == 1]"
   ],
   "metadata": {
    "collapsed": false,
    "is_executing": true
   },
   "id": "31c8dd59756e4818"
  },
  {
   "cell_type": "code",
   "outputs": [],
   "source": [
    "test_data[test_data['PKM2_inhibition'] == 1]"
   ],
   "metadata": {
    "collapsed": false,
    "is_executing": true
   },
   "id": "be0da1577bec26ea"
  }
 ],
 "metadata": {
  "kernelspec": {
   "display_name": "Python 3",
   "language": "python",
   "name": "python3"
  },
  "language_info": {
   "codemirror_mode": {
    "name": "ipython",
    "version": 2
   },
   "file_extension": ".py",
   "mimetype": "text/x-python",
   "name": "python",
   "nbconvert_exporter": "python",
   "pygments_lexer": "ipython2",
   "version": "2.7.6"
  }
 },
 "nbformat": 4,
 "nbformat_minor": 5
}
